{
 "cells": [
  {
   "cell_type": "markdown",
   "metadata": {},
   "source": [
    "# Amazon Electronics Review Analysis\n",
    "\n",
    "## I. Data Wrangling"
   ]
  },
  {
   "cell_type": "code",
   "execution_count": 1,
   "metadata": {},
   "outputs": [
    {
     "name": "stderr",
     "output_type": "stream",
     "text": [
      "[nltk_data] Downloading package punkt to\n",
      "[nltk_data]     C:\\Users\\mythr\\AppData\\Roaming\\nltk_data...\n",
      "[nltk_data]   Package punkt is already up-to-date!\n"
     ]
    }
   ],
   "source": [
    "import pandas as pd\n",
    "import matplotlib.pyplot as plt\n",
    "import numpy as np\n",
    "import re\n",
    "import seaborn as sns\n",
    "import scipy\n",
    "import itertools\n",
    "import nltk\n",
    "nltk.download('punkt')\n",
    "from nltk import sent_tokenize\n",
    "from nltk import wordpunct_tokenize, WordNetLemmatizer, pos_tag\n",
    "from nltk.tokenize import word_tokenize, sent_tokenize\n",
    "from nltk.corpus import stopwords, wordnet\n",
    "from nltk.stem.snowball import SnowballStemmer\n",
    "from wordcloud import WordCloud\n",
    "from textblob import TextBlob, Word"
   ]
  },
  {
   "cell_type": "code",
   "execution_count": 2,
   "metadata": {},
   "outputs": [],
   "source": [
    "#ignore warnings\n",
    "import warnings\n",
    "warnings.filterwarnings('ignore')"
   ]
  },
  {
   "cell_type": "code",
   "execution_count": 3,
   "metadata": {},
   "outputs": [],
   "source": [
    "reviews1 = pd.read_csv('Datafiniti_Amazon_Consumer_Reviews_of_Amazon_Products.csv')"
   ]
  },
  {
   "cell_type": "code",
   "execution_count": 4,
   "metadata": {},
   "outputs": [
    {
     "data": {
      "text/html": [
       "<div>\n",
       "<style scoped>\n",
       "    .dataframe tbody tr th:only-of-type {\n",
       "        vertical-align: middle;\n",
       "    }\n",
       "\n",
       "    .dataframe tbody tr th {\n",
       "        vertical-align: top;\n",
       "    }\n",
       "\n",
       "    .dataframe thead th {\n",
       "        text-align: right;\n",
       "    }\n",
       "</style>\n",
       "<table border=\"1\" class=\"dataframe\">\n",
       "  <thead>\n",
       "    <tr style=\"text-align: right;\">\n",
       "      <th></th>\n",
       "      <th>id</th>\n",
       "      <th>dateAdded</th>\n",
       "      <th>dateUpdated</th>\n",
       "      <th>name</th>\n",
       "      <th>asins</th>\n",
       "      <th>brand</th>\n",
       "      <th>categories</th>\n",
       "      <th>primaryCategories</th>\n",
       "      <th>imageURLs</th>\n",
       "      <th>keys</th>\n",
       "      <th>...</th>\n",
       "      <th>reviews.dateSeen</th>\n",
       "      <th>reviews.doRecommend</th>\n",
       "      <th>reviews.id</th>\n",
       "      <th>reviews.numHelpful</th>\n",
       "      <th>reviews.rating</th>\n",
       "      <th>reviews.sourceURLs</th>\n",
       "      <th>reviews.text</th>\n",
       "      <th>reviews.title</th>\n",
       "      <th>reviews.username</th>\n",
       "      <th>sourceURLs</th>\n",
       "    </tr>\n",
       "  </thead>\n",
       "  <tbody>\n",
       "    <tr>\n",
       "      <th>0</th>\n",
       "      <td>AVqVGZNvQMlgsOJE6eUY</td>\n",
       "      <td>2017-03-03T16:56:05Z</td>\n",
       "      <td>2018-10-25T16:36:31Z</td>\n",
       "      <td>Amazon Kindle E-Reader 6\" Wifi (8th Generation...</td>\n",
       "      <td>B00ZV9PXP2</td>\n",
       "      <td>Amazon</td>\n",
       "      <td>Computers,Electronics Features,Tablets,Electro...</td>\n",
       "      <td>Electronics</td>\n",
       "      <td>https://pisces.bbystatic.com/image2/BestBuy_US...</td>\n",
       "      <td>allnewkindleereaderblack6glarefreetouchscreend...</td>\n",
       "      <td>...</td>\n",
       "      <td>2018-05-27T00:00:00Z,2017-09-18T00:00:00Z,2017...</td>\n",
       "      <td>False</td>\n",
       "      <td>NaN</td>\n",
       "      <td>0</td>\n",
       "      <td>3</td>\n",
       "      <td>http://reviews.bestbuy.com/3545/5442403/review...</td>\n",
       "      <td>I thought it would be as big as small paper bu...</td>\n",
       "      <td>Too small</td>\n",
       "      <td>llyyue</td>\n",
       "      <td>https://www.newegg.com/Product/Product.aspx%25...</td>\n",
       "    </tr>\n",
       "    <tr>\n",
       "      <th>1</th>\n",
       "      <td>AVqVGZNvQMlgsOJE6eUY</td>\n",
       "      <td>2017-03-03T16:56:05Z</td>\n",
       "      <td>2018-10-25T16:36:31Z</td>\n",
       "      <td>Amazon Kindle E-Reader 6\" Wifi (8th Generation...</td>\n",
       "      <td>B00ZV9PXP2</td>\n",
       "      <td>Amazon</td>\n",
       "      <td>Computers,Electronics Features,Tablets,Electro...</td>\n",
       "      <td>Electronics</td>\n",
       "      <td>https://pisces.bbystatic.com/image2/BestBuy_US...</td>\n",
       "      <td>allnewkindleereaderblack6glarefreetouchscreend...</td>\n",
       "      <td>...</td>\n",
       "      <td>2018-05-27T00:00:00Z,2017-07-07T00:00:00Z,2017...</td>\n",
       "      <td>True</td>\n",
       "      <td>NaN</td>\n",
       "      <td>0</td>\n",
       "      <td>5</td>\n",
       "      <td>http://reviews.bestbuy.com/3545/5442403/review...</td>\n",
       "      <td>This kindle is light and easy to use especiall...</td>\n",
       "      <td>Great light reader. Easy to use at the beach</td>\n",
       "      <td>Charmi</td>\n",
       "      <td>https://www.newegg.com/Product/Product.aspx%25...</td>\n",
       "    </tr>\n",
       "    <tr>\n",
       "      <th>2</th>\n",
       "      <td>AVqVGZNvQMlgsOJE6eUY</td>\n",
       "      <td>2017-03-03T16:56:05Z</td>\n",
       "      <td>2018-10-25T16:36:31Z</td>\n",
       "      <td>Amazon Kindle E-Reader 6\" Wifi (8th Generation...</td>\n",
       "      <td>B00ZV9PXP2</td>\n",
       "      <td>Amazon</td>\n",
       "      <td>Computers,Electronics Features,Tablets,Electro...</td>\n",
       "      <td>Electronics</td>\n",
       "      <td>https://pisces.bbystatic.com/image2/BestBuy_US...</td>\n",
       "      <td>allnewkindleereaderblack6glarefreetouchscreend...</td>\n",
       "      <td>...</td>\n",
       "      <td>2018-05-27T00:00:00Z</td>\n",
       "      <td>True</td>\n",
       "      <td>NaN</td>\n",
       "      <td>0</td>\n",
       "      <td>4</td>\n",
       "      <td>https://reviews.bestbuy.com/3545/5442403/revie...</td>\n",
       "      <td>Didnt know how much i'd use a kindle so went f...</td>\n",
       "      <td>Great for the price</td>\n",
       "      <td>johnnyjojojo</td>\n",
       "      <td>https://www.newegg.com/Product/Product.aspx%25...</td>\n",
       "    </tr>\n",
       "    <tr>\n",
       "      <th>3</th>\n",
       "      <td>AVqVGZNvQMlgsOJE6eUY</td>\n",
       "      <td>2017-03-03T16:56:05Z</td>\n",
       "      <td>2018-10-25T16:36:31Z</td>\n",
       "      <td>Amazon Kindle E-Reader 6\" Wifi (8th Generation...</td>\n",
       "      <td>B00ZV9PXP2</td>\n",
       "      <td>Amazon</td>\n",
       "      <td>Computers,Electronics Features,Tablets,Electro...</td>\n",
       "      <td>Electronics</td>\n",
       "      <td>https://pisces.bbystatic.com/image2/BestBuy_US...</td>\n",
       "      <td>allnewkindleereaderblack6glarefreetouchscreend...</td>\n",
       "      <td>...</td>\n",
       "      <td>2018-10-09T00:00:00Z</td>\n",
       "      <td>True</td>\n",
       "      <td>177283626.0</td>\n",
       "      <td>3</td>\n",
       "      <td>5</td>\n",
       "      <td>https://redsky.target.com/groot-domain-api/v1/...</td>\n",
       "      <td>I am 100 happy with my purchase. I caught it o...</td>\n",
       "      <td>A Great Buy</td>\n",
       "      <td>Kdperry</td>\n",
       "      <td>https://www.newegg.com/Product/Product.aspx%25...</td>\n",
       "    </tr>\n",
       "    <tr>\n",
       "      <th>4</th>\n",
       "      <td>AVqVGZNvQMlgsOJE6eUY</td>\n",
       "      <td>2017-03-03T16:56:05Z</td>\n",
       "      <td>2018-10-25T16:36:31Z</td>\n",
       "      <td>Amazon Kindle E-Reader 6\" Wifi (8th Generation...</td>\n",
       "      <td>B00ZV9PXP2</td>\n",
       "      <td>Amazon</td>\n",
       "      <td>Computers,Electronics Features,Tablets,Electro...</td>\n",
       "      <td>Electronics</td>\n",
       "      <td>https://pisces.bbystatic.com/image2/BestBuy_US...</td>\n",
       "      <td>allnewkindleereaderblack6glarefreetouchscreend...</td>\n",
       "      <td>...</td>\n",
       "      <td>2018-05-27T00:00:00Z</td>\n",
       "      <td>True</td>\n",
       "      <td>NaN</td>\n",
       "      <td>0</td>\n",
       "      <td>5</td>\n",
       "      <td>https://reviews.bestbuy.com/3545/5442403/revie...</td>\n",
       "      <td>Solid entry level Kindle. Great for kids. Gift...</td>\n",
       "      <td>Solid entry-level Kindle. Great for kids</td>\n",
       "      <td>Johnnyblack</td>\n",
       "      <td>https://www.newegg.com/Product/Product.aspx%25...</td>\n",
       "    </tr>\n",
       "  </tbody>\n",
       "</table>\n",
       "<p>5 rows × 24 columns</p>\n",
       "</div>"
      ],
      "text/plain": [
       "                     id             dateAdded           dateUpdated  \\\n",
       "0  AVqVGZNvQMlgsOJE6eUY  2017-03-03T16:56:05Z  2018-10-25T16:36:31Z   \n",
       "1  AVqVGZNvQMlgsOJE6eUY  2017-03-03T16:56:05Z  2018-10-25T16:36:31Z   \n",
       "2  AVqVGZNvQMlgsOJE6eUY  2017-03-03T16:56:05Z  2018-10-25T16:36:31Z   \n",
       "3  AVqVGZNvQMlgsOJE6eUY  2017-03-03T16:56:05Z  2018-10-25T16:36:31Z   \n",
       "4  AVqVGZNvQMlgsOJE6eUY  2017-03-03T16:56:05Z  2018-10-25T16:36:31Z   \n",
       "\n",
       "                                                name       asins   brand  \\\n",
       "0  Amazon Kindle E-Reader 6\" Wifi (8th Generation...  B00ZV9PXP2  Amazon   \n",
       "1  Amazon Kindle E-Reader 6\" Wifi (8th Generation...  B00ZV9PXP2  Amazon   \n",
       "2  Amazon Kindle E-Reader 6\" Wifi (8th Generation...  B00ZV9PXP2  Amazon   \n",
       "3  Amazon Kindle E-Reader 6\" Wifi (8th Generation...  B00ZV9PXP2  Amazon   \n",
       "4  Amazon Kindle E-Reader 6\" Wifi (8th Generation...  B00ZV9PXP2  Amazon   \n",
       "\n",
       "                                          categories primaryCategories  \\\n",
       "0  Computers,Electronics Features,Tablets,Electro...       Electronics   \n",
       "1  Computers,Electronics Features,Tablets,Electro...       Electronics   \n",
       "2  Computers,Electronics Features,Tablets,Electro...       Electronics   \n",
       "3  Computers,Electronics Features,Tablets,Electro...       Electronics   \n",
       "4  Computers,Electronics Features,Tablets,Electro...       Electronics   \n",
       "\n",
       "                                           imageURLs  \\\n",
       "0  https://pisces.bbystatic.com/image2/BestBuy_US...   \n",
       "1  https://pisces.bbystatic.com/image2/BestBuy_US...   \n",
       "2  https://pisces.bbystatic.com/image2/BestBuy_US...   \n",
       "3  https://pisces.bbystatic.com/image2/BestBuy_US...   \n",
       "4  https://pisces.bbystatic.com/image2/BestBuy_US...   \n",
       "\n",
       "                                                keys  ...  \\\n",
       "0  allnewkindleereaderblack6glarefreetouchscreend...  ...   \n",
       "1  allnewkindleereaderblack6glarefreetouchscreend...  ...   \n",
       "2  allnewkindleereaderblack6glarefreetouchscreend...  ...   \n",
       "3  allnewkindleereaderblack6glarefreetouchscreend...  ...   \n",
       "4  allnewkindleereaderblack6glarefreetouchscreend...  ...   \n",
       "\n",
       "                                    reviews.dateSeen reviews.doRecommend  \\\n",
       "0  2018-05-27T00:00:00Z,2017-09-18T00:00:00Z,2017...               False   \n",
       "1  2018-05-27T00:00:00Z,2017-07-07T00:00:00Z,2017...                True   \n",
       "2                               2018-05-27T00:00:00Z                True   \n",
       "3                               2018-10-09T00:00:00Z                True   \n",
       "4                               2018-05-27T00:00:00Z                True   \n",
       "\n",
       "    reviews.id reviews.numHelpful reviews.rating  \\\n",
       "0          NaN                  0              3   \n",
       "1          NaN                  0              5   \n",
       "2          NaN                  0              4   \n",
       "3  177283626.0                  3              5   \n",
       "4          NaN                  0              5   \n",
       "\n",
       "                                  reviews.sourceURLs  \\\n",
       "0  http://reviews.bestbuy.com/3545/5442403/review...   \n",
       "1  http://reviews.bestbuy.com/3545/5442403/review...   \n",
       "2  https://reviews.bestbuy.com/3545/5442403/revie...   \n",
       "3  https://redsky.target.com/groot-domain-api/v1/...   \n",
       "4  https://reviews.bestbuy.com/3545/5442403/revie...   \n",
       "\n",
       "                                        reviews.text  \\\n",
       "0  I thought it would be as big as small paper bu...   \n",
       "1  This kindle is light and easy to use especiall...   \n",
       "2  Didnt know how much i'd use a kindle so went f...   \n",
       "3  I am 100 happy with my purchase. I caught it o...   \n",
       "4  Solid entry level Kindle. Great for kids. Gift...   \n",
       "\n",
       "                                  reviews.title  reviews.username  \\\n",
       "0                                     Too small            llyyue   \n",
       "1  Great light reader. Easy to use at the beach            Charmi   \n",
       "2                           Great for the price      johnnyjojojo   \n",
       "3                                   A Great Buy           Kdperry   \n",
       "4      Solid entry-level Kindle. Great for kids       Johnnyblack   \n",
       "\n",
       "                                          sourceURLs  \n",
       "0  https://www.newegg.com/Product/Product.aspx%25...  \n",
       "1  https://www.newegg.com/Product/Product.aspx%25...  \n",
       "2  https://www.newegg.com/Product/Product.aspx%25...  \n",
       "3  https://www.newegg.com/Product/Product.aspx%25...  \n",
       "4  https://www.newegg.com/Product/Product.aspx%25...  \n",
       "\n",
       "[5 rows x 24 columns]"
      ]
     },
     "execution_count": 4,
     "metadata": {},
     "output_type": "execute_result"
    }
   ],
   "source": [
    "reviews1.head()"
   ]
  },
  {
   "cell_type": "code",
   "execution_count": 5,
   "metadata": {},
   "outputs": [
    {
     "data": {
      "text/plain": [
       "(5000, 24)"
      ]
     },
     "execution_count": 5,
     "metadata": {},
     "output_type": "execute_result"
    }
   ],
   "source": [
    "reviews1.shape"
   ]
  },
  {
   "cell_type": "code",
   "execution_count": 6,
   "metadata": {},
   "outputs": [],
   "source": [
    "reviews2 = pd.read_csv('Datafiniti_Amazon_Consumer_Reviews_of_Amazon_Products_May19.csv')"
   ]
  },
  {
   "cell_type": "code",
   "execution_count": 7,
   "metadata": {},
   "outputs": [
    {
     "data": {
      "text/html": [
       "<div>\n",
       "<style scoped>\n",
       "    .dataframe tbody tr th:only-of-type {\n",
       "        vertical-align: middle;\n",
       "    }\n",
       "\n",
       "    .dataframe tbody tr th {\n",
       "        vertical-align: top;\n",
       "    }\n",
       "\n",
       "    .dataframe thead th {\n",
       "        text-align: right;\n",
       "    }\n",
       "</style>\n",
       "<table border=\"1\" class=\"dataframe\">\n",
       "  <thead>\n",
       "    <tr style=\"text-align: right;\">\n",
       "      <th></th>\n",
       "      <th>id</th>\n",
       "      <th>dateAdded</th>\n",
       "      <th>dateUpdated</th>\n",
       "      <th>name</th>\n",
       "      <th>asins</th>\n",
       "      <th>brand</th>\n",
       "      <th>categories</th>\n",
       "      <th>primaryCategories</th>\n",
       "      <th>imageURLs</th>\n",
       "      <th>keys</th>\n",
       "      <th>...</th>\n",
       "      <th>reviews.didPurchase</th>\n",
       "      <th>reviews.doRecommend</th>\n",
       "      <th>reviews.id</th>\n",
       "      <th>reviews.numHelpful</th>\n",
       "      <th>reviews.rating</th>\n",
       "      <th>reviews.sourceURLs</th>\n",
       "      <th>reviews.text</th>\n",
       "      <th>reviews.title</th>\n",
       "      <th>reviews.username</th>\n",
       "      <th>sourceURLs</th>\n",
       "    </tr>\n",
       "  </thead>\n",
       "  <tbody>\n",
       "    <tr>\n",
       "      <th>0</th>\n",
       "      <td>AVpgNzjwLJeJML43Kpxn</td>\n",
       "      <td>2015-10-30T08:59:32Z</td>\n",
       "      <td>2019-04-25T09:08:16Z</td>\n",
       "      <td>AmazonBasics AAA Performance Alkaline Batterie...</td>\n",
       "      <td>B00QWO9P0O,B00LH3DMUO</td>\n",
       "      <td>Amazonbasics</td>\n",
       "      <td>AA,AAA,Health,Electronics,Health &amp; Household,C...</td>\n",
       "      <td>Health &amp; Beauty</td>\n",
       "      <td>https://images-na.ssl-images-amazon.com/images...</td>\n",
       "      <td>amazonbasics/hl002619,amazonbasicsaaaperforman...</td>\n",
       "      <td>...</td>\n",
       "      <td>NaN</td>\n",
       "      <td>NaN</td>\n",
       "      <td>NaN</td>\n",
       "      <td>NaN</td>\n",
       "      <td>3</td>\n",
       "      <td>https://www.amazon.com/product-reviews/B00QWO9...</td>\n",
       "      <td>I order 3 of them and one of the item is bad q...</td>\n",
       "      <td>... 3 of them and one of the item is bad quali...</td>\n",
       "      <td>Byger yang</td>\n",
       "      <td>https://www.barcodable.com/upc/841710106442,ht...</td>\n",
       "    </tr>\n",
       "    <tr>\n",
       "      <th>1</th>\n",
       "      <td>AVpgNzjwLJeJML43Kpxn</td>\n",
       "      <td>2015-10-30T08:59:32Z</td>\n",
       "      <td>2019-04-25T09:08:16Z</td>\n",
       "      <td>AmazonBasics AAA Performance Alkaline Batterie...</td>\n",
       "      <td>B00QWO9P0O,B00LH3DMUO</td>\n",
       "      <td>Amazonbasics</td>\n",
       "      <td>AA,AAA,Health,Electronics,Health &amp; Household,C...</td>\n",
       "      <td>Health &amp; Beauty</td>\n",
       "      <td>https://images-na.ssl-images-amazon.com/images...</td>\n",
       "      <td>amazonbasics/hl002619,amazonbasicsaaaperforman...</td>\n",
       "      <td>...</td>\n",
       "      <td>NaN</td>\n",
       "      <td>NaN</td>\n",
       "      <td>NaN</td>\n",
       "      <td>NaN</td>\n",
       "      <td>4</td>\n",
       "      <td>https://www.amazon.com/product-reviews/B00QWO9...</td>\n",
       "      <td>Bulk is always the less expensive way to go fo...</td>\n",
       "      <td>... always the less expensive way to go for pr...</td>\n",
       "      <td>ByMG</td>\n",
       "      <td>https://www.barcodable.com/upc/841710106442,ht...</td>\n",
       "    </tr>\n",
       "    <tr>\n",
       "      <th>2</th>\n",
       "      <td>AVpgNzjwLJeJML43Kpxn</td>\n",
       "      <td>2015-10-30T08:59:32Z</td>\n",
       "      <td>2019-04-25T09:08:16Z</td>\n",
       "      <td>AmazonBasics AAA Performance Alkaline Batterie...</td>\n",
       "      <td>B00QWO9P0O,B00LH3DMUO</td>\n",
       "      <td>Amazonbasics</td>\n",
       "      <td>AA,AAA,Health,Electronics,Health &amp; Household,C...</td>\n",
       "      <td>Health &amp; Beauty</td>\n",
       "      <td>https://images-na.ssl-images-amazon.com/images...</td>\n",
       "      <td>amazonbasics/hl002619,amazonbasicsaaaperforman...</td>\n",
       "      <td>...</td>\n",
       "      <td>NaN</td>\n",
       "      <td>NaN</td>\n",
       "      <td>NaN</td>\n",
       "      <td>NaN</td>\n",
       "      <td>5</td>\n",
       "      <td>https://www.amazon.com/product-reviews/B00QWO9...</td>\n",
       "      <td>Well they are not Duracell but for the price i...</td>\n",
       "      <td>... are not Duracell but for the price i am ha...</td>\n",
       "      <td>BySharon Lambert</td>\n",
       "      <td>https://www.barcodable.com/upc/841710106442,ht...</td>\n",
       "    </tr>\n",
       "    <tr>\n",
       "      <th>3</th>\n",
       "      <td>AVpgNzjwLJeJML43Kpxn</td>\n",
       "      <td>2015-10-30T08:59:32Z</td>\n",
       "      <td>2019-04-25T09:08:16Z</td>\n",
       "      <td>AmazonBasics AAA Performance Alkaline Batterie...</td>\n",
       "      <td>B00QWO9P0O,B00LH3DMUO</td>\n",
       "      <td>Amazonbasics</td>\n",
       "      <td>AA,AAA,Health,Electronics,Health &amp; Household,C...</td>\n",
       "      <td>Health &amp; Beauty</td>\n",
       "      <td>https://images-na.ssl-images-amazon.com/images...</td>\n",
       "      <td>amazonbasics/hl002619,amazonbasicsaaaperforman...</td>\n",
       "      <td>...</td>\n",
       "      <td>NaN</td>\n",
       "      <td>NaN</td>\n",
       "      <td>NaN</td>\n",
       "      <td>NaN</td>\n",
       "      <td>5</td>\n",
       "      <td>https://www.amazon.com/product-reviews/B00QWO9...</td>\n",
       "      <td>Seem to work as well as name brand batteries a...</td>\n",
       "      <td>... as well as name brand batteries at a much ...</td>\n",
       "      <td>Bymark sexson</td>\n",
       "      <td>https://www.barcodable.com/upc/841710106442,ht...</td>\n",
       "    </tr>\n",
       "    <tr>\n",
       "      <th>4</th>\n",
       "      <td>AVpgNzjwLJeJML43Kpxn</td>\n",
       "      <td>2015-10-30T08:59:32Z</td>\n",
       "      <td>2019-04-25T09:08:16Z</td>\n",
       "      <td>AmazonBasics AAA Performance Alkaline Batterie...</td>\n",
       "      <td>B00QWO9P0O,B00LH3DMUO</td>\n",
       "      <td>Amazonbasics</td>\n",
       "      <td>AA,AAA,Health,Electronics,Health &amp; Household,C...</td>\n",
       "      <td>Health &amp; Beauty</td>\n",
       "      <td>https://images-na.ssl-images-amazon.com/images...</td>\n",
       "      <td>amazonbasics/hl002619,amazonbasicsaaaperforman...</td>\n",
       "      <td>...</td>\n",
       "      <td>NaN</td>\n",
       "      <td>NaN</td>\n",
       "      <td>NaN</td>\n",
       "      <td>NaN</td>\n",
       "      <td>5</td>\n",
       "      <td>https://www.amazon.com/product-reviews/B00QWO9...</td>\n",
       "      <td>These batteries are very long lasting the pric...</td>\n",
       "      <td>... batteries are very long lasting the price ...</td>\n",
       "      <td>Bylinda</td>\n",
       "      <td>https://www.barcodable.com/upc/841710106442,ht...</td>\n",
       "    </tr>\n",
       "  </tbody>\n",
       "</table>\n",
       "<p>5 rows × 24 columns</p>\n",
       "</div>"
      ],
      "text/plain": [
       "                     id             dateAdded           dateUpdated  \\\n",
       "0  AVpgNzjwLJeJML43Kpxn  2015-10-30T08:59:32Z  2019-04-25T09:08:16Z   \n",
       "1  AVpgNzjwLJeJML43Kpxn  2015-10-30T08:59:32Z  2019-04-25T09:08:16Z   \n",
       "2  AVpgNzjwLJeJML43Kpxn  2015-10-30T08:59:32Z  2019-04-25T09:08:16Z   \n",
       "3  AVpgNzjwLJeJML43Kpxn  2015-10-30T08:59:32Z  2019-04-25T09:08:16Z   \n",
       "4  AVpgNzjwLJeJML43Kpxn  2015-10-30T08:59:32Z  2019-04-25T09:08:16Z   \n",
       "\n",
       "                                                name                  asins  \\\n",
       "0  AmazonBasics AAA Performance Alkaline Batterie...  B00QWO9P0O,B00LH3DMUO   \n",
       "1  AmazonBasics AAA Performance Alkaline Batterie...  B00QWO9P0O,B00LH3DMUO   \n",
       "2  AmazonBasics AAA Performance Alkaline Batterie...  B00QWO9P0O,B00LH3DMUO   \n",
       "3  AmazonBasics AAA Performance Alkaline Batterie...  B00QWO9P0O,B00LH3DMUO   \n",
       "4  AmazonBasics AAA Performance Alkaline Batterie...  B00QWO9P0O,B00LH3DMUO   \n",
       "\n",
       "          brand                                         categories  \\\n",
       "0  Amazonbasics  AA,AAA,Health,Electronics,Health & Household,C...   \n",
       "1  Amazonbasics  AA,AAA,Health,Electronics,Health & Household,C...   \n",
       "2  Amazonbasics  AA,AAA,Health,Electronics,Health & Household,C...   \n",
       "3  Amazonbasics  AA,AAA,Health,Electronics,Health & Household,C...   \n",
       "4  Amazonbasics  AA,AAA,Health,Electronics,Health & Household,C...   \n",
       "\n",
       "  primaryCategories                                          imageURLs  \\\n",
       "0   Health & Beauty  https://images-na.ssl-images-amazon.com/images...   \n",
       "1   Health & Beauty  https://images-na.ssl-images-amazon.com/images...   \n",
       "2   Health & Beauty  https://images-na.ssl-images-amazon.com/images...   \n",
       "3   Health & Beauty  https://images-na.ssl-images-amazon.com/images...   \n",
       "4   Health & Beauty  https://images-na.ssl-images-amazon.com/images...   \n",
       "\n",
       "                                                keys  ... reviews.didPurchase  \\\n",
       "0  amazonbasics/hl002619,amazonbasicsaaaperforman...  ...                 NaN   \n",
       "1  amazonbasics/hl002619,amazonbasicsaaaperforman...  ...                 NaN   \n",
       "2  amazonbasics/hl002619,amazonbasicsaaaperforman...  ...                 NaN   \n",
       "3  amazonbasics/hl002619,amazonbasicsaaaperforman...  ...                 NaN   \n",
       "4  amazonbasics/hl002619,amazonbasicsaaaperforman...  ...                 NaN   \n",
       "\n",
       "  reviews.doRecommend reviews.id reviews.numHelpful reviews.rating  \\\n",
       "0                 NaN        NaN                NaN              3   \n",
       "1                 NaN        NaN                NaN              4   \n",
       "2                 NaN        NaN                NaN              5   \n",
       "3                 NaN        NaN                NaN              5   \n",
       "4                 NaN        NaN                NaN              5   \n",
       "\n",
       "                                  reviews.sourceURLs  \\\n",
       "0  https://www.amazon.com/product-reviews/B00QWO9...   \n",
       "1  https://www.amazon.com/product-reviews/B00QWO9...   \n",
       "2  https://www.amazon.com/product-reviews/B00QWO9...   \n",
       "3  https://www.amazon.com/product-reviews/B00QWO9...   \n",
       "4  https://www.amazon.com/product-reviews/B00QWO9...   \n",
       "\n",
       "                                        reviews.text  \\\n",
       "0  I order 3 of them and one of the item is bad q...   \n",
       "1  Bulk is always the less expensive way to go fo...   \n",
       "2  Well they are not Duracell but for the price i...   \n",
       "3  Seem to work as well as name brand batteries a...   \n",
       "4  These batteries are very long lasting the pric...   \n",
       "\n",
       "                                       reviews.title  reviews.username  \\\n",
       "0  ... 3 of them and one of the item is bad quali...        Byger yang   \n",
       "1  ... always the less expensive way to go for pr...              ByMG   \n",
       "2  ... are not Duracell but for the price i am ha...  BySharon Lambert   \n",
       "3  ... as well as name brand batteries at a much ...     Bymark sexson   \n",
       "4  ... batteries are very long lasting the price ...           Bylinda   \n",
       "\n",
       "                                          sourceURLs  \n",
       "0  https://www.barcodable.com/upc/841710106442,ht...  \n",
       "1  https://www.barcodable.com/upc/841710106442,ht...  \n",
       "2  https://www.barcodable.com/upc/841710106442,ht...  \n",
       "3  https://www.barcodable.com/upc/841710106442,ht...  \n",
       "4  https://www.barcodable.com/upc/841710106442,ht...  \n",
       "\n",
       "[5 rows x 24 columns]"
      ]
     },
     "execution_count": 7,
     "metadata": {},
     "output_type": "execute_result"
    }
   ],
   "source": [
    "reviews2.head()"
   ]
  },
  {
   "cell_type": "code",
   "execution_count": 8,
   "metadata": {},
   "outputs": [
    {
     "data": {
      "text/plain": [
       "(28332, 24)"
      ]
     },
     "execution_count": 8,
     "metadata": {},
     "output_type": "execute_result"
    }
   ],
   "source": [
    "reviews2.shape"
   ]
  },
  {
   "cell_type": "code",
   "execution_count": 9,
   "metadata": {},
   "outputs": [],
   "source": [
    "reviews3 = pd.read_csv('7817_1.csv')"
   ]
  },
  {
   "cell_type": "code",
   "execution_count": 10,
   "metadata": {},
   "outputs": [
    {
     "data": {
      "text/html": [
       "<div>\n",
       "<style scoped>\n",
       "    .dataframe tbody tr th:only-of-type {\n",
       "        vertical-align: middle;\n",
       "    }\n",
       "\n",
       "    .dataframe tbody tr th {\n",
       "        vertical-align: top;\n",
       "    }\n",
       "\n",
       "    .dataframe thead th {\n",
       "        text-align: right;\n",
       "    }\n",
       "</style>\n",
       "<table border=\"1\" class=\"dataframe\">\n",
       "  <thead>\n",
       "    <tr style=\"text-align: right;\">\n",
       "      <th></th>\n",
       "      <th>id</th>\n",
       "      <th>asins</th>\n",
       "      <th>brand</th>\n",
       "      <th>categories</th>\n",
       "      <th>colors</th>\n",
       "      <th>dateAdded</th>\n",
       "      <th>dateUpdated</th>\n",
       "      <th>dimension</th>\n",
       "      <th>ean</th>\n",
       "      <th>keys</th>\n",
       "      <th>...</th>\n",
       "      <th>reviews.rating</th>\n",
       "      <th>reviews.sourceURLs</th>\n",
       "      <th>reviews.text</th>\n",
       "      <th>reviews.title</th>\n",
       "      <th>reviews.userCity</th>\n",
       "      <th>reviews.userProvince</th>\n",
       "      <th>reviews.username</th>\n",
       "      <th>sizes</th>\n",
       "      <th>upc</th>\n",
       "      <th>weight</th>\n",
       "    </tr>\n",
       "  </thead>\n",
       "  <tbody>\n",
       "    <tr>\n",
       "      <th>0</th>\n",
       "      <td>AVpe7AsMilAPnD_xQ78G</td>\n",
       "      <td>B00QJDU3KY</td>\n",
       "      <td>Amazon</td>\n",
       "      <td>Amazon Devices,mazon.co.uk</td>\n",
       "      <td>NaN</td>\n",
       "      <td>2016-03-08T20:21:53Z</td>\n",
       "      <td>2017-07-18T23:52:58Z</td>\n",
       "      <td>169 mm x 117 mm x 9.1 mm</td>\n",
       "      <td>NaN</td>\n",
       "      <td>kindlepaperwhite/b00qjdu3ky</td>\n",
       "      <td>...</td>\n",
       "      <td>5.0</td>\n",
       "      <td>https://www.amazon.com/Kindle-Paperwhite-High-...</td>\n",
       "      <td>I initially had trouble deciding between the p...</td>\n",
       "      <td>Paperwhite voyage, no regrets!</td>\n",
       "      <td>NaN</td>\n",
       "      <td>NaN</td>\n",
       "      <td>Cristina M</td>\n",
       "      <td>NaN</td>\n",
       "      <td>NaN</td>\n",
       "      <td>205 grams</td>\n",
       "    </tr>\n",
       "    <tr>\n",
       "      <th>1</th>\n",
       "      <td>AVpe7AsMilAPnD_xQ78G</td>\n",
       "      <td>B00QJDU3KY</td>\n",
       "      <td>Amazon</td>\n",
       "      <td>Amazon Devices,mazon.co.uk</td>\n",
       "      <td>NaN</td>\n",
       "      <td>2016-03-08T20:21:53Z</td>\n",
       "      <td>2017-07-18T23:52:58Z</td>\n",
       "      <td>169 mm x 117 mm x 9.1 mm</td>\n",
       "      <td>NaN</td>\n",
       "      <td>kindlepaperwhite/b00qjdu3ky</td>\n",
       "      <td>...</td>\n",
       "      <td>5.0</td>\n",
       "      <td>https://www.amazon.com/Kindle-Paperwhite-High-...</td>\n",
       "      <td>Allow me to preface this with a little history...</td>\n",
       "      <td>One Simply Could Not Ask For More</td>\n",
       "      <td>NaN</td>\n",
       "      <td>NaN</td>\n",
       "      <td>Ricky</td>\n",
       "      <td>NaN</td>\n",
       "      <td>NaN</td>\n",
       "      <td>205 grams</td>\n",
       "    </tr>\n",
       "    <tr>\n",
       "      <th>2</th>\n",
       "      <td>AVpe7AsMilAPnD_xQ78G</td>\n",
       "      <td>B00QJDU3KY</td>\n",
       "      <td>Amazon</td>\n",
       "      <td>Amazon Devices,mazon.co.uk</td>\n",
       "      <td>NaN</td>\n",
       "      <td>2016-03-08T20:21:53Z</td>\n",
       "      <td>2017-07-18T23:52:58Z</td>\n",
       "      <td>169 mm x 117 mm x 9.1 mm</td>\n",
       "      <td>NaN</td>\n",
       "      <td>kindlepaperwhite/b00qjdu3ky</td>\n",
       "      <td>...</td>\n",
       "      <td>4.0</td>\n",
       "      <td>https://www.amazon.com/Kindle-Paperwhite-High-...</td>\n",
       "      <td>I am enjoying it so far. Great for reading. Ha...</td>\n",
       "      <td>Great for those that just want an e-reader</td>\n",
       "      <td>NaN</td>\n",
       "      <td>NaN</td>\n",
       "      <td>Tedd Gardiner</td>\n",
       "      <td>NaN</td>\n",
       "      <td>NaN</td>\n",
       "      <td>205 grams</td>\n",
       "    </tr>\n",
       "    <tr>\n",
       "      <th>3</th>\n",
       "      <td>AVpe7AsMilAPnD_xQ78G</td>\n",
       "      <td>B00QJDU3KY</td>\n",
       "      <td>Amazon</td>\n",
       "      <td>Amazon Devices,mazon.co.uk</td>\n",
       "      <td>NaN</td>\n",
       "      <td>2016-03-08T20:21:53Z</td>\n",
       "      <td>2017-07-18T23:52:58Z</td>\n",
       "      <td>169 mm x 117 mm x 9.1 mm</td>\n",
       "      <td>NaN</td>\n",
       "      <td>kindlepaperwhite/b00qjdu3ky</td>\n",
       "      <td>...</td>\n",
       "      <td>5.0</td>\n",
       "      <td>https://www.amazon.com/Kindle-Paperwhite-High-...</td>\n",
       "      <td>I bought one of the first Paperwhites and have...</td>\n",
       "      <td>Love / Hate relationship</td>\n",
       "      <td>NaN</td>\n",
       "      <td>NaN</td>\n",
       "      <td>Dougal</td>\n",
       "      <td>NaN</td>\n",
       "      <td>NaN</td>\n",
       "      <td>205 grams</td>\n",
       "    </tr>\n",
       "    <tr>\n",
       "      <th>4</th>\n",
       "      <td>AVpe7AsMilAPnD_xQ78G</td>\n",
       "      <td>B00QJDU3KY</td>\n",
       "      <td>Amazon</td>\n",
       "      <td>Amazon Devices,mazon.co.uk</td>\n",
       "      <td>NaN</td>\n",
       "      <td>2016-03-08T20:21:53Z</td>\n",
       "      <td>2017-07-18T23:52:58Z</td>\n",
       "      <td>169 mm x 117 mm x 9.1 mm</td>\n",
       "      <td>NaN</td>\n",
       "      <td>kindlepaperwhite/b00qjdu3ky</td>\n",
       "      <td>...</td>\n",
       "      <td>5.0</td>\n",
       "      <td>https://www.amazon.com/Kindle-Paperwhite-High-...</td>\n",
       "      <td>I have to say upfront - I don't like coroporat...</td>\n",
       "      <td>I LOVE IT</td>\n",
       "      <td>NaN</td>\n",
       "      <td>NaN</td>\n",
       "      <td>Miljan David Tanic</td>\n",
       "      <td>NaN</td>\n",
       "      <td>NaN</td>\n",
       "      <td>205 grams</td>\n",
       "    </tr>\n",
       "  </tbody>\n",
       "</table>\n",
       "<p>5 rows × 27 columns</p>\n",
       "</div>"
      ],
      "text/plain": [
       "                     id       asins   brand                  categories  \\\n",
       "0  AVpe7AsMilAPnD_xQ78G  B00QJDU3KY  Amazon  Amazon Devices,mazon.co.uk   \n",
       "1  AVpe7AsMilAPnD_xQ78G  B00QJDU3KY  Amazon  Amazon Devices,mazon.co.uk   \n",
       "2  AVpe7AsMilAPnD_xQ78G  B00QJDU3KY  Amazon  Amazon Devices,mazon.co.uk   \n",
       "3  AVpe7AsMilAPnD_xQ78G  B00QJDU3KY  Amazon  Amazon Devices,mazon.co.uk   \n",
       "4  AVpe7AsMilAPnD_xQ78G  B00QJDU3KY  Amazon  Amazon Devices,mazon.co.uk   \n",
       "\n",
       "  colors             dateAdded           dateUpdated  \\\n",
       "0    NaN  2016-03-08T20:21:53Z  2017-07-18T23:52:58Z   \n",
       "1    NaN  2016-03-08T20:21:53Z  2017-07-18T23:52:58Z   \n",
       "2    NaN  2016-03-08T20:21:53Z  2017-07-18T23:52:58Z   \n",
       "3    NaN  2016-03-08T20:21:53Z  2017-07-18T23:52:58Z   \n",
       "4    NaN  2016-03-08T20:21:53Z  2017-07-18T23:52:58Z   \n",
       "\n",
       "                  dimension  ean                         keys  ...  \\\n",
       "0  169 mm x 117 mm x 9.1 mm  NaN  kindlepaperwhite/b00qjdu3ky  ...   \n",
       "1  169 mm x 117 mm x 9.1 mm  NaN  kindlepaperwhite/b00qjdu3ky  ...   \n",
       "2  169 mm x 117 mm x 9.1 mm  NaN  kindlepaperwhite/b00qjdu3ky  ...   \n",
       "3  169 mm x 117 mm x 9.1 mm  NaN  kindlepaperwhite/b00qjdu3ky  ...   \n",
       "4  169 mm x 117 mm x 9.1 mm  NaN  kindlepaperwhite/b00qjdu3ky  ...   \n",
       "\n",
       "  reviews.rating                                 reviews.sourceURLs  \\\n",
       "0            5.0  https://www.amazon.com/Kindle-Paperwhite-High-...   \n",
       "1            5.0  https://www.amazon.com/Kindle-Paperwhite-High-...   \n",
       "2            4.0  https://www.amazon.com/Kindle-Paperwhite-High-...   \n",
       "3            5.0  https://www.amazon.com/Kindle-Paperwhite-High-...   \n",
       "4            5.0  https://www.amazon.com/Kindle-Paperwhite-High-...   \n",
       "\n",
       "                                        reviews.text  \\\n",
       "0  I initially had trouble deciding between the p...   \n",
       "1  Allow me to preface this with a little history...   \n",
       "2  I am enjoying it so far. Great for reading. Ha...   \n",
       "3  I bought one of the first Paperwhites and have...   \n",
       "4  I have to say upfront - I don't like coroporat...   \n",
       "\n",
       "                                reviews.title reviews.userCity  \\\n",
       "0              Paperwhite voyage, no regrets!              NaN   \n",
       "1           One Simply Could Not Ask For More              NaN   \n",
       "2  Great for those that just want an e-reader              NaN   \n",
       "3                    Love / Hate relationship              NaN   \n",
       "4                                   I LOVE IT              NaN   \n",
       "\n",
       "  reviews.userProvince    reviews.username  sizes upc     weight  \n",
       "0                  NaN          Cristina M    NaN NaN  205 grams  \n",
       "1                  NaN               Ricky    NaN NaN  205 grams  \n",
       "2                  NaN       Tedd Gardiner    NaN NaN  205 grams  \n",
       "3                  NaN              Dougal    NaN NaN  205 grams  \n",
       "4                  NaN  Miljan David Tanic    NaN NaN  205 grams  \n",
       "\n",
       "[5 rows x 27 columns]"
      ]
     },
     "execution_count": 10,
     "metadata": {},
     "output_type": "execute_result"
    }
   ],
   "source": [
    "reviews3.head()"
   ]
  },
  {
   "cell_type": "code",
   "execution_count": 11,
   "metadata": {},
   "outputs": [
    {
     "data": {
      "text/plain": [
       "(1597, 27)"
      ]
     },
     "execution_count": 11,
     "metadata": {},
     "output_type": "execute_result"
    }
   ],
   "source": [
    "reviews3.shape"
   ]
  },
  {
   "cell_type": "code",
   "execution_count": 12,
   "metadata": {},
   "outputs": [
    {
     "data": {
      "text/plain": [
       "Index(['id', 'dateAdded', 'dateUpdated', 'name', 'asins', 'brand',\n",
       "       'categories', 'primaryCategories', 'imageURLs', 'keys', 'manufacturer',\n",
       "       'manufacturerNumber', 'reviews.date', 'reviews.dateAdded',\n",
       "       'reviews.dateSeen', 'reviews.doRecommend', 'reviews.id',\n",
       "       'reviews.numHelpful', 'reviews.rating', 'reviews.sourceURLs',\n",
       "       'reviews.text', 'reviews.title', 'reviews.username', 'sourceURLs'],\n",
       "      dtype='object')"
      ]
     },
     "execution_count": 12,
     "metadata": {},
     "output_type": "execute_result"
    }
   ],
   "source": [
    "reviews1.columns"
   ]
  },
  {
   "cell_type": "code",
   "execution_count": 13,
   "metadata": {},
   "outputs": [
    {
     "data": {
      "text/plain": [
       "Index(['id', 'dateAdded', 'dateUpdated', 'name', 'asins', 'brand',\n",
       "       'categories', 'primaryCategories', 'imageURLs', 'keys', 'manufacturer',\n",
       "       'manufacturerNumber', 'reviews.date', 'reviews.dateSeen',\n",
       "       'reviews.didPurchase', 'reviews.doRecommend', 'reviews.id',\n",
       "       'reviews.numHelpful', 'reviews.rating', 'reviews.sourceURLs',\n",
       "       'reviews.text', 'reviews.title', 'reviews.username', 'sourceURLs'],\n",
       "      dtype='object')"
      ]
     },
     "execution_count": 13,
     "metadata": {},
     "output_type": "execute_result"
    }
   ],
   "source": [
    "reviews2.columns"
   ]
  },
  {
   "cell_type": "code",
   "execution_count": 14,
   "metadata": {},
   "outputs": [
    {
     "data": {
      "text/plain": [
       "Index(['id', 'asins', 'brand', 'categories', 'colors', 'dateAdded',\n",
       "       'dateUpdated', 'dimension', 'ean', 'keys', 'manufacturer',\n",
       "       'manufacturerNumber', 'name', 'prices', 'reviews.date',\n",
       "       'reviews.doRecommend', 'reviews.numHelpful', 'reviews.rating',\n",
       "       'reviews.sourceURLs', 'reviews.text', 'reviews.title',\n",
       "       'reviews.userCity', 'reviews.userProvince', 'reviews.username', 'sizes',\n",
       "       'upc', 'weight'],\n",
       "      dtype='object')"
      ]
     },
     "execution_count": 14,
     "metadata": {},
     "output_type": "execute_result"
    }
   ],
   "source": [
    "reviews3.columns"
   ]
  },
  {
   "cell_type": "code",
   "execution_count": 15,
   "metadata": {},
   "outputs": [
    {
     "data": {
      "text/plain": [
       "array([nan, 'GB', 'Black', 'Clear'], dtype=object)"
      ]
     },
     "execution_count": 15,
     "metadata": {},
     "output_type": "execute_result"
    }
   ],
   "source": [
    "# the third dataset has colors and sizes as columns, I am going to see if there's any relevant info, then drop it if there's too \n",
    "#many NaN\n",
    "reviews3['colors'].unique()"
   ]
  },
  {
   "cell_type": "code",
   "execution_count": 16,
   "metadata": {},
   "outputs": [
    {
     "data": {
      "text/plain": [
       "id                         0\n",
       "asins                      0\n",
       "brand                      0\n",
       "categories                 0\n",
       "colors                   823\n",
       "dateAdded                  0\n",
       "dateUpdated                0\n",
       "dimension               1032\n",
       "ean                      699\n",
       "keys                       0\n",
       "manufacturer             632\n",
       "manufacturerNumber       695\n",
       "name                       0\n",
       "prices                     0\n",
       "reviews.date             380\n",
       "reviews.doRecommend     1058\n",
       "reviews.numHelpful       697\n",
       "reviews.rating           420\n",
       "reviews.sourceURLs         0\n",
       "reviews.text               0\n",
       "reviews.title             17\n",
       "reviews.userCity        1597\n",
       "reviews.userProvince    1597\n",
       "reviews.username          17\n",
       "sizes                   1597\n",
       "upc                      699\n",
       "weight                   911\n",
       "dtype: int64"
      ]
     },
     "execution_count": 16,
     "metadata": {},
     "output_type": "execute_result"
    }
   ],
   "source": [
    "reviews3.isna().sum()"
   ]
  },
  {
   "cell_type": "code",
   "execution_count": 17,
   "metadata": {},
   "outputs": [
    {
     "data": {
      "text/plain": [
       "id                        0\n",
       "dateAdded                 0\n",
       "dateUpdated               0\n",
       "name                      0\n",
       "asins                     0\n",
       "brand                     0\n",
       "categories                0\n",
       "primaryCategories         0\n",
       "imageURLs                 0\n",
       "keys                      0\n",
       "manufacturer              0\n",
       "manufacturerNumber        0\n",
       "reviews.date              0\n",
       "reviews.dateAdded      3948\n",
       "reviews.dateSeen          0\n",
       "reviews.doRecommend       0\n",
       "reviews.id             4971\n",
       "reviews.numHelpful        0\n",
       "reviews.rating            0\n",
       "reviews.sourceURLs        0\n",
       "reviews.text              0\n",
       "reviews.title            13\n",
       "reviews.username          0\n",
       "sourceURLs                0\n",
       "dtype: int64"
      ]
     },
     "execution_count": 17,
     "metadata": {},
     "output_type": "execute_result"
    }
   ],
   "source": [
    "reviews1.isna().sum()"
   ]
  },
  {
   "cell_type": "markdown",
   "metadata": {},
   "source": [
    "When observing the data, the most important columns we need are rating, review text and title, category, number of helpful reviews, and if the product is recommended. What I plan to do is drop the unnecessary columns from each dataset then condense it down, so that I can perform EDA."
   ]
  },
  {
   "cell_type": "code",
   "execution_count": 18,
   "metadata": {},
   "outputs": [],
   "source": [
    "reviews1 = reviews1.drop(['dateAdded', 'dateUpdated', 'reviews.dateAdded', 'reviews.dateSeen', 'reviews.id', 'reviews.sourceURLs', 'reviews.username', 'imageURLs', 'keys', 'sourceURLs'], axis=1)"
   ]
  },
  {
   "cell_type": "code",
   "execution_count": 19,
   "metadata": {},
   "outputs": [
    {
     "data": {
      "text/plain": [
       "id                      0\n",
       "name                    0\n",
       "asins                   0\n",
       "brand                   0\n",
       "categories              0\n",
       "primaryCategories       0\n",
       "manufacturer            0\n",
       "manufacturerNumber      0\n",
       "reviews.date            0\n",
       "reviews.doRecommend     0\n",
       "reviews.numHelpful      0\n",
       "reviews.rating          0\n",
       "reviews.text            0\n",
       "reviews.title          13\n",
       "dtype: int64"
      ]
     },
     "execution_count": 19,
     "metadata": {},
     "output_type": "execute_result"
    }
   ],
   "source": [
    "reviews1.isna().sum()"
   ]
  },
  {
   "cell_type": "code",
   "execution_count": 20,
   "metadata": {},
   "outputs": [],
   "source": [
    "#let's replace nan values with a string that says \"no Title\"\n",
    "reviews1['reviews.title'].fillna('No Title', inplace=True)"
   ]
  },
  {
   "cell_type": "code",
   "execution_count": 21,
   "metadata": {},
   "outputs": [
    {
     "data": {
      "text/plain": [
       "id                     0\n",
       "name                   0\n",
       "asins                  0\n",
       "brand                  0\n",
       "categories             0\n",
       "primaryCategories      0\n",
       "manufacturer           0\n",
       "manufacturerNumber     0\n",
       "reviews.date           0\n",
       "reviews.doRecommend    0\n",
       "reviews.numHelpful     0\n",
       "reviews.rating         0\n",
       "reviews.text           0\n",
       "reviews.title          0\n",
       "dtype: int64"
      ]
     },
     "execution_count": 21,
     "metadata": {},
     "output_type": "execute_result"
    }
   ],
   "source": [
    "reviews1.isna().sum()"
   ]
  },
  {
   "cell_type": "code",
   "execution_count": 22,
   "metadata": {},
   "outputs": [],
   "source": [
    "#replace the period in column names with an underscore\n",
    "reviews1.rename(columns = {'reviews.date':'reviews_date', 'reviews.doRecommend':'reviews_doRecommend', 'reviews.rating':'reviews_rating', 'reviews.numHelpful': 'reviews_numHelpful', 'reviews.text': 'reviews_text', 'reviews.title': 'reviews_title'}, inplace = True)"
   ]
  },
  {
   "cell_type": "code",
   "execution_count": 23,
   "metadata": {},
   "outputs": [
    {
     "data": {
      "text/plain": [
       "Index(['id', 'name', 'asins', 'brand', 'categories', 'primaryCategories',\n",
       "       'manufacturer', 'manufacturerNumber', 'reviews_date',\n",
       "       'reviews_doRecommend', 'reviews_numHelpful', 'reviews_rating',\n",
       "       'reviews_text', 'reviews_title'],\n",
       "      dtype='object')"
      ]
     },
     "execution_count": 23,
     "metadata": {},
     "output_type": "execute_result"
    }
   ],
   "source": [
    "reviews1.columns"
   ]
  },
  {
   "cell_type": "code",
   "execution_count": 24,
   "metadata": {},
   "outputs": [
    {
     "data": {
      "text/plain": [
       "(5000, 14)"
      ]
     },
     "execution_count": 24,
     "metadata": {},
     "output_type": "execute_result"
    }
   ],
   "source": [
    "reviews1.shape"
   ]
  },
  {
   "cell_type": "code",
   "execution_count": 25,
   "metadata": {},
   "outputs": [
    {
     "data": {
      "text/plain": [
       "Index(['id', 'dateAdded', 'dateUpdated', 'name', 'asins', 'brand',\n",
       "       'categories', 'primaryCategories', 'imageURLs', 'keys', 'manufacturer',\n",
       "       'manufacturerNumber', 'reviews.date', 'reviews.dateSeen',\n",
       "       'reviews.didPurchase', 'reviews.doRecommend', 'reviews.id',\n",
       "       'reviews.numHelpful', 'reviews.rating', 'reviews.sourceURLs',\n",
       "       'reviews.text', 'reviews.title', 'reviews.username', 'sourceURLs'],\n",
       "      dtype='object')"
      ]
     },
     "execution_count": 25,
     "metadata": {},
     "output_type": "execute_result"
    }
   ],
   "source": [
    "#let's clean up the second dataframe so we can put these together and randomly sample them\n",
    "reviews2.columns"
   ]
  },
  {
   "cell_type": "code",
   "execution_count": 26,
   "metadata": {},
   "outputs": [
    {
     "data": {
      "text/plain": [
       "id                         0\n",
       "dateAdded                  0\n",
       "dateUpdated                0\n",
       "name                       0\n",
       "asins                      0\n",
       "brand                      0\n",
       "categories                 0\n",
       "primaryCategories          0\n",
       "imageURLs                  0\n",
       "keys                       0\n",
       "manufacturer               0\n",
       "manufacturerNumber         0\n",
       "reviews.date               0\n",
       "reviews.dateSeen           0\n",
       "reviews.didPurchase    28323\n",
       "reviews.doRecommend    12246\n",
       "reviews.id             28291\n",
       "reviews.numHelpful     12217\n",
       "reviews.rating             0\n",
       "reviews.sourceURLs         0\n",
       "reviews.text               0\n",
       "reviews.title              0\n",
       "reviews.username           0\n",
       "sourceURLs                 0\n",
       "dtype: int64"
      ]
     },
     "execution_count": 26,
     "metadata": {},
     "output_type": "execute_result"
    }
   ],
   "source": [
    "reviews2.isna().sum()"
   ]
  },
  {
   "cell_type": "code",
   "execution_count": 27,
   "metadata": {},
   "outputs": [
    {
     "data": {
      "text/plain": [
       "array([nan, True, False], dtype=object)"
      ]
     },
     "execution_count": 27,
     "metadata": {},
     "output_type": "execute_result"
    }
   ],
   "source": [
    "#all nan rows should be dropped in the doRecommend column because It will mess with the creation of dummy variables in the future\n",
    "reviews2['reviews.doRecommend'].unique()"
   ]
  },
  {
   "cell_type": "code",
   "execution_count": 28,
   "metadata": {},
   "outputs": [
    {
     "data": {
      "text/plain": [
       "array([ nan,   1.,   0.,   2.,  40.,  21.,  12., 238.,   6.,   3.,   9.,\n",
       "        15.,   5., 434.,   8.,   7.,   4.,  16., 621.,  23., 220.,  19.,\n",
       "        39.,  18.,  72.,  25.,  11.,  27.,  45.,  20.,  10.,  65.,  28.,\n",
       "        68., 105., 103.,  33.,  48.,  14.,  49.,  13.,  44.,  36., 129.,\n",
       "        17.,  26., 130.,  35.,  29.,  30.,  22.,  31.,  41.,  93.,  60.,\n",
       "       292., 345., 525., 288.,  47.,  42.,  55.])"
      ]
     },
     "execution_count": 28,
     "metadata": {},
     "output_type": "execute_result"
    }
   ],
   "source": [
    "reviews2['reviews.numHelpful'].unique()"
   ]
  },
  {
   "cell_type": "code",
   "execution_count": 29,
   "metadata": {},
   "outputs": [],
   "source": [
    "#drop the columns we dropped in the first dataframe\n",
    "reviews2 = reviews2.drop(['dateAdded', 'dateUpdated', 'reviews.dateSeen', 'reviews.id', 'reviews.sourceURLs', 'reviews.username', 'reviews.didPurchase', 'imageURLs', 'keys', 'sourceURLs'], axis=1)"
   ]
  },
  {
   "cell_type": "code",
   "execution_count": 30,
   "metadata": {},
   "outputs": [
    {
     "data": {
      "text/html": [
       "<div>\n",
       "<style scoped>\n",
       "    .dataframe tbody tr th:only-of-type {\n",
       "        vertical-align: middle;\n",
       "    }\n",
       "\n",
       "    .dataframe tbody tr th {\n",
       "        vertical-align: top;\n",
       "    }\n",
       "\n",
       "    .dataframe thead th {\n",
       "        text-align: right;\n",
       "    }\n",
       "</style>\n",
       "<table border=\"1\" class=\"dataframe\">\n",
       "  <thead>\n",
       "    <tr style=\"text-align: right;\">\n",
       "      <th></th>\n",
       "      <th>id</th>\n",
       "      <th>name</th>\n",
       "      <th>asins</th>\n",
       "      <th>brand</th>\n",
       "      <th>categories</th>\n",
       "      <th>primaryCategories</th>\n",
       "      <th>manufacturer</th>\n",
       "      <th>manufacturerNumber</th>\n",
       "      <th>reviews.date</th>\n",
       "      <th>reviews.doRecommend</th>\n",
       "      <th>reviews.numHelpful</th>\n",
       "      <th>reviews.rating</th>\n",
       "      <th>reviews.text</th>\n",
       "      <th>reviews.title</th>\n",
       "    </tr>\n",
       "  </thead>\n",
       "  <tbody>\n",
       "    <tr>\n",
       "      <th>0</th>\n",
       "      <td>AVpgNzjwLJeJML43Kpxn</td>\n",
       "      <td>AmazonBasics AAA Performance Alkaline Batterie...</td>\n",
       "      <td>B00QWO9P0O,B00LH3DMUO</td>\n",
       "      <td>Amazonbasics</td>\n",
       "      <td>AA,AAA,Health,Electronics,Health &amp; Household,C...</td>\n",
       "      <td>Health &amp; Beauty</td>\n",
       "      <td>AmazonBasics</td>\n",
       "      <td>HL-002619</td>\n",
       "      <td>2017-03-02T00:00:00.000Z</td>\n",
       "      <td>NaN</td>\n",
       "      <td>NaN</td>\n",
       "      <td>3</td>\n",
       "      <td>I order 3 of them and one of the item is bad q...</td>\n",
       "      <td>... 3 of them and one of the item is bad quali...</td>\n",
       "    </tr>\n",
       "    <tr>\n",
       "      <th>1</th>\n",
       "      <td>AVpgNzjwLJeJML43Kpxn</td>\n",
       "      <td>AmazonBasics AAA Performance Alkaline Batterie...</td>\n",
       "      <td>B00QWO9P0O,B00LH3DMUO</td>\n",
       "      <td>Amazonbasics</td>\n",
       "      <td>AA,AAA,Health,Electronics,Health &amp; Household,C...</td>\n",
       "      <td>Health &amp; Beauty</td>\n",
       "      <td>AmazonBasics</td>\n",
       "      <td>HL-002619</td>\n",
       "      <td>2016-08-31T00:00:00.000Z</td>\n",
       "      <td>NaN</td>\n",
       "      <td>NaN</td>\n",
       "      <td>4</td>\n",
       "      <td>Bulk is always the less expensive way to go fo...</td>\n",
       "      <td>... always the less expensive way to go for pr...</td>\n",
       "    </tr>\n",
       "    <tr>\n",
       "      <th>2</th>\n",
       "      <td>AVpgNzjwLJeJML43Kpxn</td>\n",
       "      <td>AmazonBasics AAA Performance Alkaline Batterie...</td>\n",
       "      <td>B00QWO9P0O,B00LH3DMUO</td>\n",
       "      <td>Amazonbasics</td>\n",
       "      <td>AA,AAA,Health,Electronics,Health &amp; Household,C...</td>\n",
       "      <td>Health &amp; Beauty</td>\n",
       "      <td>AmazonBasics</td>\n",
       "      <td>HL-002619</td>\n",
       "      <td>2016-12-06T00:00:00.000Z</td>\n",
       "      <td>NaN</td>\n",
       "      <td>NaN</td>\n",
       "      <td>5</td>\n",
       "      <td>Well they are not Duracell but for the price i...</td>\n",
       "      <td>... are not Duracell but for the price i am ha...</td>\n",
       "    </tr>\n",
       "    <tr>\n",
       "      <th>3</th>\n",
       "      <td>AVpgNzjwLJeJML43Kpxn</td>\n",
       "      <td>AmazonBasics AAA Performance Alkaline Batterie...</td>\n",
       "      <td>B00QWO9P0O,B00LH3DMUO</td>\n",
       "      <td>Amazonbasics</td>\n",
       "      <td>AA,AAA,Health,Electronics,Health &amp; Household,C...</td>\n",
       "      <td>Health &amp; Beauty</td>\n",
       "      <td>AmazonBasics</td>\n",
       "      <td>HL-002619</td>\n",
       "      <td>2016-03-28T00:00:00.000Z</td>\n",
       "      <td>NaN</td>\n",
       "      <td>NaN</td>\n",
       "      <td>5</td>\n",
       "      <td>Seem to work as well as name brand batteries a...</td>\n",
       "      <td>... as well as name brand batteries at a much ...</td>\n",
       "    </tr>\n",
       "    <tr>\n",
       "      <th>4</th>\n",
       "      <td>AVpgNzjwLJeJML43Kpxn</td>\n",
       "      <td>AmazonBasics AAA Performance Alkaline Batterie...</td>\n",
       "      <td>B00QWO9P0O,B00LH3DMUO</td>\n",
       "      <td>Amazonbasics</td>\n",
       "      <td>AA,AAA,Health,Electronics,Health &amp; Household,C...</td>\n",
       "      <td>Health &amp; Beauty</td>\n",
       "      <td>AmazonBasics</td>\n",
       "      <td>HL-002619</td>\n",
       "      <td>2017-04-22T00:00:00.000Z</td>\n",
       "      <td>NaN</td>\n",
       "      <td>NaN</td>\n",
       "      <td>5</td>\n",
       "      <td>These batteries are very long lasting the pric...</td>\n",
       "      <td>... batteries are very long lasting the price ...</td>\n",
       "    </tr>\n",
       "  </tbody>\n",
       "</table>\n",
       "</div>"
      ],
      "text/plain": [
       "                     id                                               name  \\\n",
       "0  AVpgNzjwLJeJML43Kpxn  AmazonBasics AAA Performance Alkaline Batterie...   \n",
       "1  AVpgNzjwLJeJML43Kpxn  AmazonBasics AAA Performance Alkaline Batterie...   \n",
       "2  AVpgNzjwLJeJML43Kpxn  AmazonBasics AAA Performance Alkaline Batterie...   \n",
       "3  AVpgNzjwLJeJML43Kpxn  AmazonBasics AAA Performance Alkaline Batterie...   \n",
       "4  AVpgNzjwLJeJML43Kpxn  AmazonBasics AAA Performance Alkaline Batterie...   \n",
       "\n",
       "                   asins         brand  \\\n",
       "0  B00QWO9P0O,B00LH3DMUO  Amazonbasics   \n",
       "1  B00QWO9P0O,B00LH3DMUO  Amazonbasics   \n",
       "2  B00QWO9P0O,B00LH3DMUO  Amazonbasics   \n",
       "3  B00QWO9P0O,B00LH3DMUO  Amazonbasics   \n",
       "4  B00QWO9P0O,B00LH3DMUO  Amazonbasics   \n",
       "\n",
       "                                          categories primaryCategories  \\\n",
       "0  AA,AAA,Health,Electronics,Health & Household,C...   Health & Beauty   \n",
       "1  AA,AAA,Health,Electronics,Health & Household,C...   Health & Beauty   \n",
       "2  AA,AAA,Health,Electronics,Health & Household,C...   Health & Beauty   \n",
       "3  AA,AAA,Health,Electronics,Health & Household,C...   Health & Beauty   \n",
       "4  AA,AAA,Health,Electronics,Health & Household,C...   Health & Beauty   \n",
       "\n",
       "   manufacturer manufacturerNumber              reviews.date  \\\n",
       "0  AmazonBasics          HL-002619  2017-03-02T00:00:00.000Z   \n",
       "1  AmazonBasics          HL-002619  2016-08-31T00:00:00.000Z   \n",
       "2  AmazonBasics          HL-002619  2016-12-06T00:00:00.000Z   \n",
       "3  AmazonBasics          HL-002619  2016-03-28T00:00:00.000Z   \n",
       "4  AmazonBasics          HL-002619  2017-04-22T00:00:00.000Z   \n",
       "\n",
       "  reviews.doRecommend  reviews.numHelpful  reviews.rating  \\\n",
       "0                 NaN                 NaN               3   \n",
       "1                 NaN                 NaN               4   \n",
       "2                 NaN                 NaN               5   \n",
       "3                 NaN                 NaN               5   \n",
       "4                 NaN                 NaN               5   \n",
       "\n",
       "                                        reviews.text  \\\n",
       "0  I order 3 of them and one of the item is bad q...   \n",
       "1  Bulk is always the less expensive way to go fo...   \n",
       "2  Well they are not Duracell but for the price i...   \n",
       "3  Seem to work as well as name brand batteries a...   \n",
       "4  These batteries are very long lasting the pric...   \n",
       "\n",
       "                                       reviews.title  \n",
       "0  ... 3 of them and one of the item is bad quali...  \n",
       "1  ... always the less expensive way to go for pr...  \n",
       "2  ... are not Duracell but for the price i am ha...  \n",
       "3  ... as well as name brand batteries at a much ...  \n",
       "4  ... batteries are very long lasting the price ...  "
      ]
     },
     "execution_count": 30,
     "metadata": {},
     "output_type": "execute_result"
    }
   ],
   "source": [
    "reviews2.head()"
   ]
  },
  {
   "cell_type": "code",
   "execution_count": 31,
   "metadata": {},
   "outputs": [],
   "source": [
    "reviews2 = reviews2[reviews2['reviews.doRecommend'].notna()]"
   ]
  },
  {
   "cell_type": "code",
   "execution_count": 32,
   "metadata": {},
   "outputs": [],
   "source": [
    "reviews2 = reviews2[reviews2['reviews.numHelpful'].notna()]"
   ]
  },
  {
   "cell_type": "code",
   "execution_count": 33,
   "metadata": {},
   "outputs": [
    {
     "data": {
      "text/plain": [
       "id                     0\n",
       "name                   0\n",
       "asins                  0\n",
       "brand                  0\n",
       "categories             0\n",
       "primaryCategories      0\n",
       "manufacturer           0\n",
       "manufacturerNumber     0\n",
       "reviews.date           0\n",
       "reviews.doRecommend    0\n",
       "reviews.numHelpful     0\n",
       "reviews.rating         0\n",
       "reviews.text           0\n",
       "reviews.title          0\n",
       "dtype: int64"
      ]
     },
     "execution_count": 33,
     "metadata": {},
     "output_type": "execute_result"
    }
   ],
   "source": [
    "reviews2.isna().sum()"
   ]
  },
  {
   "cell_type": "code",
   "execution_count": 34,
   "metadata": {},
   "outputs": [],
   "source": [
    "#replace the period in column names with an underscore\n",
    "reviews2.rename(columns = {'reviews.date':'reviews_date', 'reviews.doRecommend':'reviews_doRecommend', 'reviews.rating':'reviews_rating', 'reviews.numHelpful': 'reviews_numHelpful', 'reviews.text': 'reviews_text', 'reviews.title': 'reviews_title'}, inplace = True)"
   ]
  },
  {
   "cell_type": "code",
   "execution_count": 35,
   "metadata": {},
   "outputs": [
    {
     "data": {
      "text/html": [
       "<div>\n",
       "<style scoped>\n",
       "    .dataframe tbody tr th:only-of-type {\n",
       "        vertical-align: middle;\n",
       "    }\n",
       "\n",
       "    .dataframe tbody tr th {\n",
       "        vertical-align: top;\n",
       "    }\n",
       "\n",
       "    .dataframe thead th {\n",
       "        text-align: right;\n",
       "    }\n",
       "</style>\n",
       "<table border=\"1\" class=\"dataframe\">\n",
       "  <thead>\n",
       "    <tr style=\"text-align: right;\">\n",
       "      <th></th>\n",
       "      <th>id</th>\n",
       "      <th>name</th>\n",
       "      <th>asins</th>\n",
       "      <th>brand</th>\n",
       "      <th>categories</th>\n",
       "      <th>primaryCategories</th>\n",
       "      <th>manufacturer</th>\n",
       "      <th>manufacturerNumber</th>\n",
       "      <th>reviews_date</th>\n",
       "      <th>reviews_doRecommend</th>\n",
       "      <th>reviews_numHelpful</th>\n",
       "      <th>reviews_rating</th>\n",
       "      <th>reviews_text</th>\n",
       "      <th>reviews_title</th>\n",
       "    </tr>\n",
       "  </thead>\n",
       "  <tbody>\n",
       "    <tr>\n",
       "      <th>8350</th>\n",
       "      <td>AWYAV-i9Iwln0LfXqrUq</td>\n",
       "      <td>Echo Spot Pair Kit (Black)</td>\n",
       "      <td>B073SQYXTW</td>\n",
       "      <td>Amazon</td>\n",
       "      <td>Amazon Echo,Networking,Home &amp; Tools,Smart Home...</td>\n",
       "      <td>Electronics</td>\n",
       "      <td>Amazon</td>\n",
       "      <td>B073SQYXTW</td>\n",
       "      <td>2018-12-07T18:14:33.000Z</td>\n",
       "      <td>True</td>\n",
       "      <td>0.0</td>\n",
       "      <td>4</td>\n",
       "      <td>ASIDE FROM THE FACT THAT THE SCREEN IS SMALL, ...</td>\n",
       "      <td>ALEXA ENABLED DEVICE WITH SCREEN.</td>\n",
       "    </tr>\n",
       "    <tr>\n",
       "      <th>8351</th>\n",
       "      <td>AWYAV-i9Iwln0LfXqrUq</td>\n",
       "      <td>Echo Spot Pair Kit (Black)</td>\n",
       "      <td>B073SQYXTW</td>\n",
       "      <td>Amazon</td>\n",
       "      <td>Amazon Echo,Networking,Home &amp; Tools,Smart Home...</td>\n",
       "      <td>Electronics</td>\n",
       "      <td>Amazon</td>\n",
       "      <td>B073SQYXTW</td>\n",
       "      <td>2018-12-04T18:35:15.000Z</td>\n",
       "      <td>True</td>\n",
       "      <td>0.0</td>\n",
       "      <td>5</td>\n",
       "      <td>I wasn't sure I even wanted this item, but cau...</td>\n",
       "      <td>Gotta have this one!!</td>\n",
       "    </tr>\n",
       "    <tr>\n",
       "      <th>12167</th>\n",
       "      <td>AVpfIfGA1cnluZ0-emyp</td>\n",
       "      <td>Amazon 9W PowerFast Official OEM USB Charger a...</td>\n",
       "      <td>B00QFQRELG</td>\n",
       "      <td>Amazon</td>\n",
       "      <td>Computers &amp; Accessories,Tablet &amp; E-Reader Acce...</td>\n",
       "      <td>Electronics</td>\n",
       "      <td>Amazon</td>\n",
       "      <td>55-000662</td>\n",
       "      <td>2017-01-02T00:00:00.000Z</td>\n",
       "      <td>True</td>\n",
       "      <td>0.0</td>\n",
       "      <td>5</td>\n",
       "      <td>It seems to work just like any other usb plug ...</td>\n",
       "      <td>A charger</td>\n",
       "    </tr>\n",
       "    <tr>\n",
       "      <th>12168</th>\n",
       "      <td>AVpfIfGA1cnluZ0-emyp</td>\n",
       "      <td>Amazon 9W PowerFast Official OEM USB Charger a...</td>\n",
       "      <td>B00QFQRELG</td>\n",
       "      <td>Amazon</td>\n",
       "      <td>Computers &amp; Accessories,Tablet &amp; E-Reader Acce...</td>\n",
       "      <td>Electronics</td>\n",
       "      <td>Amazon</td>\n",
       "      <td>55-000662</td>\n",
       "      <td>2016-06-03T00:00:00.000Z</td>\n",
       "      <td>True</td>\n",
       "      <td>2.0</td>\n",
       "      <td>5</td>\n",
       "      <td>got this for my kindle 7 tablet . Does an exce...</td>\n",
       "      <td>amazon power fast usb charger</td>\n",
       "    </tr>\n",
       "    <tr>\n",
       "      <th>12169</th>\n",
       "      <td>AVpfIfGA1cnluZ0-emyp</td>\n",
       "      <td>Amazon 9W PowerFast Official OEM USB Charger a...</td>\n",
       "      <td>B00QFQRELG</td>\n",
       "      <td>Amazon</td>\n",
       "      <td>Computers &amp; Accessories,Tablet &amp; E-Reader Acce...</td>\n",
       "      <td>Electronics</td>\n",
       "      <td>Amazon</td>\n",
       "      <td>55-000662</td>\n",
       "      <td>2016-11-21T00:00:00.000Z</td>\n",
       "      <td>True</td>\n",
       "      <td>0.0</td>\n",
       "      <td>5</td>\n",
       "      <td>Best kindle charger ever. Took 30 minutes to b...</td>\n",
       "      <td>Amazon powerfast wall charger</td>\n",
       "    </tr>\n",
       "  </tbody>\n",
       "</table>\n",
       "</div>"
      ],
      "text/plain": [
       "                         id  \\\n",
       "8350   AWYAV-i9Iwln0LfXqrUq   \n",
       "8351   AWYAV-i9Iwln0LfXqrUq   \n",
       "12167  AVpfIfGA1cnluZ0-emyp   \n",
       "12168  AVpfIfGA1cnluZ0-emyp   \n",
       "12169  AVpfIfGA1cnluZ0-emyp   \n",
       "\n",
       "                                                    name       asins   brand  \\\n",
       "8350                          Echo Spot Pair Kit (Black)  B073SQYXTW  Amazon   \n",
       "8351                          Echo Spot Pair Kit (Black)  B073SQYXTW  Amazon   \n",
       "12167  Amazon 9W PowerFast Official OEM USB Charger a...  B00QFQRELG  Amazon   \n",
       "12168  Amazon 9W PowerFast Official OEM USB Charger a...  B00QFQRELG  Amazon   \n",
       "12169  Amazon 9W PowerFast Official OEM USB Charger a...  B00QFQRELG  Amazon   \n",
       "\n",
       "                                              categories primaryCategories  \\\n",
       "8350   Amazon Echo,Networking,Home & Tools,Smart Home...       Electronics   \n",
       "8351   Amazon Echo,Networking,Home & Tools,Smart Home...       Electronics   \n",
       "12167  Computers & Accessories,Tablet & E-Reader Acce...       Electronics   \n",
       "12168  Computers & Accessories,Tablet & E-Reader Acce...       Electronics   \n",
       "12169  Computers & Accessories,Tablet & E-Reader Acce...       Electronics   \n",
       "\n",
       "      manufacturer manufacturerNumber              reviews_date  \\\n",
       "8350        Amazon         B073SQYXTW  2018-12-07T18:14:33.000Z   \n",
       "8351        Amazon         B073SQYXTW  2018-12-04T18:35:15.000Z   \n",
       "12167       Amazon          55-000662  2017-01-02T00:00:00.000Z   \n",
       "12168       Amazon          55-000662  2016-06-03T00:00:00.000Z   \n",
       "12169       Amazon          55-000662  2016-11-21T00:00:00.000Z   \n",
       "\n",
       "      reviews_doRecommend  reviews_numHelpful  reviews_rating  \\\n",
       "8350                 True                 0.0               4   \n",
       "8351                 True                 0.0               5   \n",
       "12167                True                 0.0               5   \n",
       "12168                True                 2.0               5   \n",
       "12169                True                 0.0               5   \n",
       "\n",
       "                                            reviews_text  \\\n",
       "8350   ASIDE FROM THE FACT THAT THE SCREEN IS SMALL, ...   \n",
       "8351   I wasn't sure I even wanted this item, but cau...   \n",
       "12167  It seems to work just like any other usb plug ...   \n",
       "12168  got this for my kindle 7 tablet . Does an exce...   \n",
       "12169  Best kindle charger ever. Took 30 minutes to b...   \n",
       "\n",
       "                           reviews_title  \n",
       "8350   ALEXA ENABLED DEVICE WITH SCREEN.  \n",
       "8351               Gotta have this one!!  \n",
       "12167                          A charger  \n",
       "12168      amazon power fast usb charger  \n",
       "12169      Amazon powerfast wall charger  "
      ]
     },
     "execution_count": 35,
     "metadata": {},
     "output_type": "execute_result"
    }
   ],
   "source": [
    "reviews2.head()"
   ]
  },
  {
   "cell_type": "code",
   "execution_count": 36,
   "metadata": {},
   "outputs": [
    {
     "data": {
      "text/plain": [
       "(16086, 14)"
      ]
     },
     "execution_count": 36,
     "metadata": {},
     "output_type": "execute_result"
    }
   ],
   "source": [
    "reviews2.shape"
   ]
  },
  {
   "cell_type": "code",
   "execution_count": 37,
   "metadata": {},
   "outputs": [
    {
     "data": {
      "text/plain": [
       "Index(['id', 'name', 'asins', 'brand', 'categories', 'primaryCategories',\n",
       "       'manufacturer', 'manufacturerNumber', 'reviews_date',\n",
       "       'reviews_doRecommend', 'reviews_numHelpful', 'reviews_rating',\n",
       "       'reviews_text', 'reviews_title'],\n",
       "      dtype='object')"
      ]
     },
     "execution_count": 37,
     "metadata": {},
     "output_type": "execute_result"
    }
   ],
   "source": [
    "reviews2.columns"
   ]
  },
  {
   "cell_type": "code",
   "execution_count": 38,
   "metadata": {},
   "outputs": [
    {
     "data": {
      "text/plain": [
       "Index(['id', 'asins', 'brand', 'categories', 'colors', 'dateAdded',\n",
       "       'dateUpdated', 'dimension', 'ean', 'keys', 'manufacturer',\n",
       "       'manufacturerNumber', 'name', 'prices', 'reviews.date',\n",
       "       'reviews.doRecommend', 'reviews.numHelpful', 'reviews.rating',\n",
       "       'reviews.sourceURLs', 'reviews.text', 'reviews.title',\n",
       "       'reviews.userCity', 'reviews.userProvince', 'reviews.username', 'sizes',\n",
       "       'upc', 'weight'],\n",
       "      dtype='object')"
      ]
     },
     "execution_count": 38,
     "metadata": {},
     "output_type": "execute_result"
    }
   ],
   "source": [
    "#do the same thing for reviews3 dataframe (might not be usable, but I still want to try)\n",
    "reviews3.columns"
   ]
  },
  {
   "cell_type": "code",
   "execution_count": 39,
   "metadata": {},
   "outputs": [],
   "source": [
    "#drop the columns we dropped in the first 2 dataframes\n",
    "reviews3 = reviews3.drop(['colors', 'dateAdded', 'dateUpdated', 'dimension', 'ean', 'keys', 'prices', 'reviews.sourceURLs', 'reviews.userCity', 'reviews.userProvince', 'reviews.username', 'reviews.username', 'sizes', 'upc', 'weight'], axis=1)"
   ]
  },
  {
   "cell_type": "code",
   "execution_count": 40,
   "metadata": {},
   "outputs": [
    {
     "data": {
      "text/plain": [
       "(1597, 13)"
      ]
     },
     "execution_count": 40,
     "metadata": {},
     "output_type": "execute_result"
    }
   ],
   "source": [
    "reviews3.shape"
   ]
  },
  {
   "cell_type": "code",
   "execution_count": 41,
   "metadata": {},
   "outputs": [
    {
     "data": {
      "text/plain": [
       "Index(['id', 'asins', 'brand', 'categories', 'manufacturer',\n",
       "       'manufacturerNumber', 'name', 'reviews.date', 'reviews.doRecommend',\n",
       "       'reviews.numHelpful', 'reviews.rating', 'reviews.text',\n",
       "       'reviews.title'],\n",
       "      dtype='object')"
      ]
     },
     "execution_count": 41,
     "metadata": {},
     "output_type": "execute_result"
    }
   ],
   "source": [
    "reviews3.columns"
   ]
  },
  {
   "cell_type": "code",
   "execution_count": 42,
   "metadata": {},
   "outputs": [],
   "source": [
    "reviews3.rename(columns = {'reviews.date':'reviews_date', 'reviews.doRecommend':'reviews_doRecommend', 'reviews.rating':'reviews_rating', 'reviews.numHelpful': 'reviews_numHelpful', 'reviews.text': 'reviews_text', 'reviews.title': 'reviews_title'}, inplace = True)"
   ]
  },
  {
   "cell_type": "code",
   "execution_count": 43,
   "metadata": {},
   "outputs": [
    {
     "data": {
      "text/html": [
       "<div>\n",
       "<style scoped>\n",
       "    .dataframe tbody tr th:only-of-type {\n",
       "        vertical-align: middle;\n",
       "    }\n",
       "\n",
       "    .dataframe tbody tr th {\n",
       "        vertical-align: top;\n",
       "    }\n",
       "\n",
       "    .dataframe thead th {\n",
       "        text-align: right;\n",
       "    }\n",
       "</style>\n",
       "<table border=\"1\" class=\"dataframe\">\n",
       "  <thead>\n",
       "    <tr style=\"text-align: right;\">\n",
       "      <th></th>\n",
       "      <th>id</th>\n",
       "      <th>asins</th>\n",
       "      <th>brand</th>\n",
       "      <th>categories</th>\n",
       "      <th>manufacturer</th>\n",
       "      <th>manufacturerNumber</th>\n",
       "      <th>name</th>\n",
       "      <th>reviews_date</th>\n",
       "      <th>reviews_doRecommend</th>\n",
       "      <th>reviews_numHelpful</th>\n",
       "      <th>reviews_rating</th>\n",
       "      <th>reviews_text</th>\n",
       "      <th>reviews_title</th>\n",
       "    </tr>\n",
       "  </thead>\n",
       "  <tbody>\n",
       "    <tr>\n",
       "      <th>0</th>\n",
       "      <td>AVpe7AsMilAPnD_xQ78G</td>\n",
       "      <td>B00QJDU3KY</td>\n",
       "      <td>Amazon</td>\n",
       "      <td>Amazon Devices,mazon.co.uk</td>\n",
       "      <td>Amazon</td>\n",
       "      <td>NaN</td>\n",
       "      <td>Kindle Paperwhite</td>\n",
       "      <td>2015-08-08T00:00:00.000Z</td>\n",
       "      <td>NaN</td>\n",
       "      <td>139.0</td>\n",
       "      <td>5.0</td>\n",
       "      <td>I initially had trouble deciding between the p...</td>\n",
       "      <td>Paperwhite voyage, no regrets!</td>\n",
       "    </tr>\n",
       "    <tr>\n",
       "      <th>1</th>\n",
       "      <td>AVpe7AsMilAPnD_xQ78G</td>\n",
       "      <td>B00QJDU3KY</td>\n",
       "      <td>Amazon</td>\n",
       "      <td>Amazon Devices,mazon.co.uk</td>\n",
       "      <td>Amazon</td>\n",
       "      <td>NaN</td>\n",
       "      <td>Kindle Paperwhite</td>\n",
       "      <td>2015-09-01T00:00:00.000Z</td>\n",
       "      <td>NaN</td>\n",
       "      <td>126.0</td>\n",
       "      <td>5.0</td>\n",
       "      <td>Allow me to preface this with a little history...</td>\n",
       "      <td>One Simply Could Not Ask For More</td>\n",
       "    </tr>\n",
       "    <tr>\n",
       "      <th>2</th>\n",
       "      <td>AVpe7AsMilAPnD_xQ78G</td>\n",
       "      <td>B00QJDU3KY</td>\n",
       "      <td>Amazon</td>\n",
       "      <td>Amazon Devices,mazon.co.uk</td>\n",
       "      <td>Amazon</td>\n",
       "      <td>NaN</td>\n",
       "      <td>Kindle Paperwhite</td>\n",
       "      <td>2015-07-20T00:00:00.000Z</td>\n",
       "      <td>NaN</td>\n",
       "      <td>69.0</td>\n",
       "      <td>4.0</td>\n",
       "      <td>I am enjoying it so far. Great for reading. Ha...</td>\n",
       "      <td>Great for those that just want an e-reader</td>\n",
       "    </tr>\n",
       "    <tr>\n",
       "      <th>3</th>\n",
       "      <td>AVpe7AsMilAPnD_xQ78G</td>\n",
       "      <td>B00QJDU3KY</td>\n",
       "      <td>Amazon</td>\n",
       "      <td>Amazon Devices,mazon.co.uk</td>\n",
       "      <td>Amazon</td>\n",
       "      <td>NaN</td>\n",
       "      <td>Kindle Paperwhite</td>\n",
       "      <td>2017-06-16T00:00:00.000Z</td>\n",
       "      <td>NaN</td>\n",
       "      <td>2.0</td>\n",
       "      <td>5.0</td>\n",
       "      <td>I bought one of the first Paperwhites and have...</td>\n",
       "      <td>Love / Hate relationship</td>\n",
       "    </tr>\n",
       "    <tr>\n",
       "      <th>4</th>\n",
       "      <td>AVpe7AsMilAPnD_xQ78G</td>\n",
       "      <td>B00QJDU3KY</td>\n",
       "      <td>Amazon</td>\n",
       "      <td>Amazon Devices,mazon.co.uk</td>\n",
       "      <td>Amazon</td>\n",
       "      <td>NaN</td>\n",
       "      <td>Kindle Paperwhite</td>\n",
       "      <td>2016-08-11T00:00:00.000Z</td>\n",
       "      <td>NaN</td>\n",
       "      <td>17.0</td>\n",
       "      <td>5.0</td>\n",
       "      <td>I have to say upfront - I don't like coroporat...</td>\n",
       "      <td>I LOVE IT</td>\n",
       "    </tr>\n",
       "  </tbody>\n",
       "</table>\n",
       "</div>"
      ],
      "text/plain": [
       "                     id       asins   brand                  categories  \\\n",
       "0  AVpe7AsMilAPnD_xQ78G  B00QJDU3KY  Amazon  Amazon Devices,mazon.co.uk   \n",
       "1  AVpe7AsMilAPnD_xQ78G  B00QJDU3KY  Amazon  Amazon Devices,mazon.co.uk   \n",
       "2  AVpe7AsMilAPnD_xQ78G  B00QJDU3KY  Amazon  Amazon Devices,mazon.co.uk   \n",
       "3  AVpe7AsMilAPnD_xQ78G  B00QJDU3KY  Amazon  Amazon Devices,mazon.co.uk   \n",
       "4  AVpe7AsMilAPnD_xQ78G  B00QJDU3KY  Amazon  Amazon Devices,mazon.co.uk   \n",
       "\n",
       "  manufacturer manufacturerNumber               name  \\\n",
       "0       Amazon                NaN  Kindle Paperwhite   \n",
       "1       Amazon                NaN  Kindle Paperwhite   \n",
       "2       Amazon                NaN  Kindle Paperwhite   \n",
       "3       Amazon                NaN  Kindle Paperwhite   \n",
       "4       Amazon                NaN  Kindle Paperwhite   \n",
       "\n",
       "               reviews_date reviews_doRecommend  reviews_numHelpful  \\\n",
       "0  2015-08-08T00:00:00.000Z                 NaN               139.0   \n",
       "1  2015-09-01T00:00:00.000Z                 NaN               126.0   \n",
       "2  2015-07-20T00:00:00.000Z                 NaN                69.0   \n",
       "3  2017-06-16T00:00:00.000Z                 NaN                 2.0   \n",
       "4  2016-08-11T00:00:00.000Z                 NaN                17.0   \n",
       "\n",
       "   reviews_rating                                       reviews_text  \\\n",
       "0             5.0  I initially had trouble deciding between the p...   \n",
       "1             5.0  Allow me to preface this with a little history...   \n",
       "2             4.0  I am enjoying it so far. Great for reading. Ha...   \n",
       "3             5.0  I bought one of the first Paperwhites and have...   \n",
       "4             5.0  I have to say upfront - I don't like coroporat...   \n",
       "\n",
       "                                reviews_title  \n",
       "0              Paperwhite voyage, no regrets!  \n",
       "1           One Simply Could Not Ask For More  \n",
       "2  Great for those that just want an e-reader  \n",
       "3                    Love / Hate relationship  \n",
       "4                                   I LOVE IT  "
      ]
     },
     "execution_count": 43,
     "metadata": {},
     "output_type": "execute_result"
    }
   ],
   "source": [
    "reviews3.head()"
   ]
  },
  {
   "cell_type": "code",
   "execution_count": 44,
   "metadata": {},
   "outputs": [
    {
     "data": {
      "text/plain": [
       "id                        0\n",
       "asins                     0\n",
       "brand                     0\n",
       "categories                0\n",
       "manufacturer            632\n",
       "manufacturerNumber      695\n",
       "name                      0\n",
       "reviews_date            380\n",
       "reviews_doRecommend    1058\n",
       "reviews_numHelpful      697\n",
       "reviews_rating          420\n",
       "reviews_text              0\n",
       "reviews_title            17\n",
       "dtype: int64"
      ]
     },
     "execution_count": 44,
     "metadata": {},
     "output_type": "execute_result"
    }
   ],
   "source": [
    "reviews3.isna().sum()"
   ]
  },
  {
   "cell_type": "code",
   "execution_count": 45,
   "metadata": {},
   "outputs": [],
   "source": [
    "reviews3 = reviews3[reviews3['reviews_doRecommend'].notna()]\n",
    "reviews3 = reviews3[reviews3['manufacturer'].notna()]\n",
    "reviews3 = reviews3[reviews3['manufacturerNumber'].notna()]\n",
    "reviews3 = reviews3[reviews3['reviews_doRecommend'].notna()]\n",
    "reviews3 = reviews3[reviews3['reviews_date'].notna()]\n",
    "reviews3 = reviews3[reviews3['reviews_numHelpful'].notna()]\n",
    "reviews3 = reviews3[reviews3['reviews_rating'].notna()]\n",
    "reviews3 = reviews3[reviews3['reviews_title'].notna()]"
   ]
  },
  {
   "cell_type": "code",
   "execution_count": 46,
   "metadata": {},
   "outputs": [
    {
     "data": {
      "text/plain": [
       "(539, 13)"
      ]
     },
     "execution_count": 46,
     "metadata": {},
     "output_type": "execute_result"
    }
   ],
   "source": [
    "reviews3.shape"
   ]
  },
  {
   "cell_type": "markdown",
   "metadata": {},
   "source": [
    "I have ultimately decided to combine all three dataframes"
   ]
  },
  {
   "cell_type": "code",
   "execution_count": 47,
   "metadata": {},
   "outputs": [],
   "source": [
    "frames = [reviews1, reviews2, reviews3]"
   ]
  },
  {
   "cell_type": "code",
   "execution_count": 48,
   "metadata": {},
   "outputs": [],
   "source": [
    "df = pd.concat(frames)"
   ]
  },
  {
   "cell_type": "code",
   "execution_count": 49,
   "metadata": {},
   "outputs": [
    {
     "data": {
      "text/plain": [
       "(21625, 14)"
      ]
     },
     "execution_count": 49,
     "metadata": {},
     "output_type": "execute_result"
    }
   ],
   "source": [
    "df.shape"
   ]
  },
  {
   "cell_type": "code",
   "execution_count": 50,
   "metadata": {},
   "outputs": [
    {
     "data": {
      "text/html": [
       "<div>\n",
       "<style scoped>\n",
       "    .dataframe tbody tr th:only-of-type {\n",
       "        vertical-align: middle;\n",
       "    }\n",
       "\n",
       "    .dataframe tbody tr th {\n",
       "        vertical-align: top;\n",
       "    }\n",
       "\n",
       "    .dataframe thead th {\n",
       "        text-align: right;\n",
       "    }\n",
       "</style>\n",
       "<table border=\"1\" class=\"dataframe\">\n",
       "  <thead>\n",
       "    <tr style=\"text-align: right;\">\n",
       "      <th></th>\n",
       "      <th>id</th>\n",
       "      <th>name</th>\n",
       "      <th>asins</th>\n",
       "      <th>brand</th>\n",
       "      <th>categories</th>\n",
       "      <th>primaryCategories</th>\n",
       "      <th>manufacturer</th>\n",
       "      <th>manufacturerNumber</th>\n",
       "      <th>reviews_date</th>\n",
       "      <th>reviews_doRecommend</th>\n",
       "      <th>reviews_numHelpful</th>\n",
       "      <th>reviews_rating</th>\n",
       "      <th>reviews_text</th>\n",
       "      <th>reviews_title</th>\n",
       "    </tr>\n",
       "  </thead>\n",
       "  <tbody>\n",
       "    <tr>\n",
       "      <th>0</th>\n",
       "      <td>AVqVGZNvQMlgsOJE6eUY</td>\n",
       "      <td>Amazon Kindle E-Reader 6\" Wifi (8th Generation...</td>\n",
       "      <td>B00ZV9PXP2</td>\n",
       "      <td>Amazon</td>\n",
       "      <td>Computers,Electronics Features,Tablets,Electro...</td>\n",
       "      <td>Electronics</td>\n",
       "      <td>Amazon</td>\n",
       "      <td>B00ZV9PXP2</td>\n",
       "      <td>2017-09-03T00:00:00.000Z</td>\n",
       "      <td>False</td>\n",
       "      <td>0.0</td>\n",
       "      <td>3.0</td>\n",
       "      <td>I thought it would be as big as small paper bu...</td>\n",
       "      <td>Too small</td>\n",
       "    </tr>\n",
       "    <tr>\n",
       "      <th>1</th>\n",
       "      <td>AVqVGZNvQMlgsOJE6eUY</td>\n",
       "      <td>Amazon Kindle E-Reader 6\" Wifi (8th Generation...</td>\n",
       "      <td>B00ZV9PXP2</td>\n",
       "      <td>Amazon</td>\n",
       "      <td>Computers,Electronics Features,Tablets,Electro...</td>\n",
       "      <td>Electronics</td>\n",
       "      <td>Amazon</td>\n",
       "      <td>B00ZV9PXP2</td>\n",
       "      <td>2017-06-06T00:00:00.000Z</td>\n",
       "      <td>True</td>\n",
       "      <td>0.0</td>\n",
       "      <td>5.0</td>\n",
       "      <td>This kindle is light and easy to use especiall...</td>\n",
       "      <td>Great light reader. Easy to use at the beach</td>\n",
       "    </tr>\n",
       "    <tr>\n",
       "      <th>2</th>\n",
       "      <td>AVqVGZNvQMlgsOJE6eUY</td>\n",
       "      <td>Amazon Kindle E-Reader 6\" Wifi (8th Generation...</td>\n",
       "      <td>B00ZV9PXP2</td>\n",
       "      <td>Amazon</td>\n",
       "      <td>Computers,Electronics Features,Tablets,Electro...</td>\n",
       "      <td>Electronics</td>\n",
       "      <td>Amazon</td>\n",
       "      <td>B00ZV9PXP2</td>\n",
       "      <td>2018-04-20T00:00:00.000Z</td>\n",
       "      <td>True</td>\n",
       "      <td>0.0</td>\n",
       "      <td>4.0</td>\n",
       "      <td>Didnt know how much i'd use a kindle so went f...</td>\n",
       "      <td>Great for the price</td>\n",
       "    </tr>\n",
       "    <tr>\n",
       "      <th>3</th>\n",
       "      <td>AVqVGZNvQMlgsOJE6eUY</td>\n",
       "      <td>Amazon Kindle E-Reader 6\" Wifi (8th Generation...</td>\n",
       "      <td>B00ZV9PXP2</td>\n",
       "      <td>Amazon</td>\n",
       "      <td>Computers,Electronics Features,Tablets,Electro...</td>\n",
       "      <td>Electronics</td>\n",
       "      <td>Amazon</td>\n",
       "      <td>B00ZV9PXP2</td>\n",
       "      <td>2017-11-02T17:33:31.000Z</td>\n",
       "      <td>True</td>\n",
       "      <td>3.0</td>\n",
       "      <td>5.0</td>\n",
       "      <td>I am 100 happy with my purchase. I caught it o...</td>\n",
       "      <td>A Great Buy</td>\n",
       "    </tr>\n",
       "    <tr>\n",
       "      <th>4</th>\n",
       "      <td>AVqVGZNvQMlgsOJE6eUY</td>\n",
       "      <td>Amazon Kindle E-Reader 6\" Wifi (8th Generation...</td>\n",
       "      <td>B00ZV9PXP2</td>\n",
       "      <td>Amazon</td>\n",
       "      <td>Computers,Electronics Features,Tablets,Electro...</td>\n",
       "      <td>Electronics</td>\n",
       "      <td>Amazon</td>\n",
       "      <td>B00ZV9PXP2</td>\n",
       "      <td>2018-04-24T00:00:00.000Z</td>\n",
       "      <td>True</td>\n",
       "      <td>0.0</td>\n",
       "      <td>5.0</td>\n",
       "      <td>Solid entry level Kindle. Great for kids. Gift...</td>\n",
       "      <td>Solid entry-level Kindle. Great for kids</td>\n",
       "    </tr>\n",
       "  </tbody>\n",
       "</table>\n",
       "</div>"
      ],
      "text/plain": [
       "                     id                                               name  \\\n",
       "0  AVqVGZNvQMlgsOJE6eUY  Amazon Kindle E-Reader 6\" Wifi (8th Generation...   \n",
       "1  AVqVGZNvQMlgsOJE6eUY  Amazon Kindle E-Reader 6\" Wifi (8th Generation...   \n",
       "2  AVqVGZNvQMlgsOJE6eUY  Amazon Kindle E-Reader 6\" Wifi (8th Generation...   \n",
       "3  AVqVGZNvQMlgsOJE6eUY  Amazon Kindle E-Reader 6\" Wifi (8th Generation...   \n",
       "4  AVqVGZNvQMlgsOJE6eUY  Amazon Kindle E-Reader 6\" Wifi (8th Generation...   \n",
       "\n",
       "        asins   brand                                         categories  \\\n",
       "0  B00ZV9PXP2  Amazon  Computers,Electronics Features,Tablets,Electro...   \n",
       "1  B00ZV9PXP2  Amazon  Computers,Electronics Features,Tablets,Electro...   \n",
       "2  B00ZV9PXP2  Amazon  Computers,Electronics Features,Tablets,Electro...   \n",
       "3  B00ZV9PXP2  Amazon  Computers,Electronics Features,Tablets,Electro...   \n",
       "4  B00ZV9PXP2  Amazon  Computers,Electronics Features,Tablets,Electro...   \n",
       "\n",
       "  primaryCategories manufacturer manufacturerNumber              reviews_date  \\\n",
       "0       Electronics       Amazon         B00ZV9PXP2  2017-09-03T00:00:00.000Z   \n",
       "1       Electronics       Amazon         B00ZV9PXP2  2017-06-06T00:00:00.000Z   \n",
       "2       Electronics       Amazon         B00ZV9PXP2  2018-04-20T00:00:00.000Z   \n",
       "3       Electronics       Amazon         B00ZV9PXP2  2017-11-02T17:33:31.000Z   \n",
       "4       Electronics       Amazon         B00ZV9PXP2  2018-04-24T00:00:00.000Z   \n",
       "\n",
       "  reviews_doRecommend  reviews_numHelpful  reviews_rating  \\\n",
       "0               False                 0.0             3.0   \n",
       "1                True                 0.0             5.0   \n",
       "2                True                 0.0             4.0   \n",
       "3                True                 3.0             5.0   \n",
       "4                True                 0.0             5.0   \n",
       "\n",
       "                                        reviews_text  \\\n",
       "0  I thought it would be as big as small paper bu...   \n",
       "1  This kindle is light and easy to use especiall...   \n",
       "2  Didnt know how much i'd use a kindle so went f...   \n",
       "3  I am 100 happy with my purchase. I caught it o...   \n",
       "4  Solid entry level Kindle. Great for kids. Gift...   \n",
       "\n",
       "                                  reviews_title  \n",
       "0                                     Too small  \n",
       "1  Great light reader. Easy to use at the beach  \n",
       "2                           Great for the price  \n",
       "3                                   A Great Buy  \n",
       "4      Solid entry-level Kindle. Great for kids  "
      ]
     },
     "execution_count": 50,
     "metadata": {},
     "output_type": "execute_result"
    }
   ],
   "source": [
    "df.head()"
   ]
  },
  {
   "cell_type": "code",
   "execution_count": 51,
   "metadata": {},
   "outputs": [],
   "source": [
    "#get dummy variables for boolean values (whether or not the product is recommended)\n",
    "recommendation = pd.get_dummies(df['reviews_doRecommend'])"
   ]
  },
  {
   "cell_type": "code",
   "execution_count": 52,
   "metadata": {},
   "outputs": [
    {
     "name": "stdout",
     "output_type": "stream",
     "text": [
      "      False  True \n",
      "0         1      0\n",
      "1         0      1\n",
      "2         0      1\n",
      "3         0      1\n",
      "4         0      1\n",
      "...     ...    ...\n",
      "1389      0      1\n",
      "1390      0      1\n",
      "1391      0      1\n",
      "1392      0      1\n",
      "1393      0      1\n",
      "\n",
      "[21625 rows x 2 columns]\n"
     ]
    }
   ],
   "source": [
    "print(recommendation)"
   ]
  },
  {
   "cell_type": "code",
   "execution_count": 53,
   "metadata": {},
   "outputs": [],
   "source": [
    "recommendation.columns = ['not_recommended', 'recommended']"
   ]
  },
  {
   "cell_type": "code",
   "execution_count": 54,
   "metadata": {},
   "outputs": [
    {
     "data": {
      "text/html": [
       "<div>\n",
       "<style scoped>\n",
       "    .dataframe tbody tr th:only-of-type {\n",
       "        vertical-align: middle;\n",
       "    }\n",
       "\n",
       "    .dataframe tbody tr th {\n",
       "        vertical-align: top;\n",
       "    }\n",
       "\n",
       "    .dataframe thead th {\n",
       "        text-align: right;\n",
       "    }\n",
       "</style>\n",
       "<table border=\"1\" class=\"dataframe\">\n",
       "  <thead>\n",
       "    <tr style=\"text-align: right;\">\n",
       "      <th></th>\n",
       "      <th>not_recommended</th>\n",
       "      <th>recommended</th>\n",
       "    </tr>\n",
       "  </thead>\n",
       "  <tbody>\n",
       "    <tr>\n",
       "      <th>0</th>\n",
       "      <td>1</td>\n",
       "      <td>0</td>\n",
       "    </tr>\n",
       "    <tr>\n",
       "      <th>1</th>\n",
       "      <td>0</td>\n",
       "      <td>1</td>\n",
       "    </tr>\n",
       "    <tr>\n",
       "      <th>2</th>\n",
       "      <td>0</td>\n",
       "      <td>1</td>\n",
       "    </tr>\n",
       "    <tr>\n",
       "      <th>3</th>\n",
       "      <td>0</td>\n",
       "      <td>1</td>\n",
       "    </tr>\n",
       "    <tr>\n",
       "      <th>4</th>\n",
       "      <td>0</td>\n",
       "      <td>1</td>\n",
       "    </tr>\n",
       "  </tbody>\n",
       "</table>\n",
       "</div>"
      ],
      "text/plain": [
       "   not_recommended  recommended\n",
       "0                1            0\n",
       "1                0            1\n",
       "2                0            1\n",
       "3                0            1\n",
       "4                0            1"
      ]
     },
     "execution_count": 54,
     "metadata": {},
     "output_type": "execute_result"
    }
   ],
   "source": [
    "recommendation.head()"
   ]
  },
  {
   "cell_type": "code",
   "execution_count": 55,
   "metadata": {},
   "outputs": [],
   "source": [
    "df = pd.concat([df, recommendation], axis=1)"
   ]
  },
  {
   "cell_type": "code",
   "execution_count": 56,
   "metadata": {},
   "outputs": [
    {
     "data": {
      "text/html": [
       "<div>\n",
       "<style scoped>\n",
       "    .dataframe tbody tr th:only-of-type {\n",
       "        vertical-align: middle;\n",
       "    }\n",
       "\n",
       "    .dataframe tbody tr th {\n",
       "        vertical-align: top;\n",
       "    }\n",
       "\n",
       "    .dataframe thead th {\n",
       "        text-align: right;\n",
       "    }\n",
       "</style>\n",
       "<table border=\"1\" class=\"dataframe\">\n",
       "  <thead>\n",
       "    <tr style=\"text-align: right;\">\n",
       "      <th></th>\n",
       "      <th>id</th>\n",
       "      <th>name</th>\n",
       "      <th>asins</th>\n",
       "      <th>brand</th>\n",
       "      <th>categories</th>\n",
       "      <th>primaryCategories</th>\n",
       "      <th>manufacturer</th>\n",
       "      <th>manufacturerNumber</th>\n",
       "      <th>reviews_date</th>\n",
       "      <th>reviews_doRecommend</th>\n",
       "      <th>reviews_numHelpful</th>\n",
       "      <th>reviews_rating</th>\n",
       "      <th>reviews_text</th>\n",
       "      <th>reviews_title</th>\n",
       "      <th>not_recommended</th>\n",
       "      <th>recommended</th>\n",
       "    </tr>\n",
       "  </thead>\n",
       "  <tbody>\n",
       "    <tr>\n",
       "      <th>0</th>\n",
       "      <td>AVqVGZNvQMlgsOJE6eUY</td>\n",
       "      <td>Amazon Kindle E-Reader 6\" Wifi (8th Generation...</td>\n",
       "      <td>B00ZV9PXP2</td>\n",
       "      <td>Amazon</td>\n",
       "      <td>Computers,Electronics Features,Tablets,Electro...</td>\n",
       "      <td>Electronics</td>\n",
       "      <td>Amazon</td>\n",
       "      <td>B00ZV9PXP2</td>\n",
       "      <td>2017-09-03T00:00:00.000Z</td>\n",
       "      <td>False</td>\n",
       "      <td>0.0</td>\n",
       "      <td>3.0</td>\n",
       "      <td>I thought it would be as big as small paper bu...</td>\n",
       "      <td>Too small</td>\n",
       "      <td>1</td>\n",
       "      <td>0</td>\n",
       "    </tr>\n",
       "    <tr>\n",
       "      <th>1</th>\n",
       "      <td>AVqVGZNvQMlgsOJE6eUY</td>\n",
       "      <td>Amazon Kindle E-Reader 6\" Wifi (8th Generation...</td>\n",
       "      <td>B00ZV9PXP2</td>\n",
       "      <td>Amazon</td>\n",
       "      <td>Computers,Electronics Features,Tablets,Electro...</td>\n",
       "      <td>Electronics</td>\n",
       "      <td>Amazon</td>\n",
       "      <td>B00ZV9PXP2</td>\n",
       "      <td>2017-06-06T00:00:00.000Z</td>\n",
       "      <td>True</td>\n",
       "      <td>0.0</td>\n",
       "      <td>5.0</td>\n",
       "      <td>This kindle is light and easy to use especiall...</td>\n",
       "      <td>Great light reader. Easy to use at the beach</td>\n",
       "      <td>0</td>\n",
       "      <td>1</td>\n",
       "    </tr>\n",
       "    <tr>\n",
       "      <th>2</th>\n",
       "      <td>AVqVGZNvQMlgsOJE6eUY</td>\n",
       "      <td>Amazon Kindle E-Reader 6\" Wifi (8th Generation...</td>\n",
       "      <td>B00ZV9PXP2</td>\n",
       "      <td>Amazon</td>\n",
       "      <td>Computers,Electronics Features,Tablets,Electro...</td>\n",
       "      <td>Electronics</td>\n",
       "      <td>Amazon</td>\n",
       "      <td>B00ZV9PXP2</td>\n",
       "      <td>2018-04-20T00:00:00.000Z</td>\n",
       "      <td>True</td>\n",
       "      <td>0.0</td>\n",
       "      <td>4.0</td>\n",
       "      <td>Didnt know how much i'd use a kindle so went f...</td>\n",
       "      <td>Great for the price</td>\n",
       "      <td>0</td>\n",
       "      <td>1</td>\n",
       "    </tr>\n",
       "    <tr>\n",
       "      <th>3</th>\n",
       "      <td>AVqVGZNvQMlgsOJE6eUY</td>\n",
       "      <td>Amazon Kindle E-Reader 6\" Wifi (8th Generation...</td>\n",
       "      <td>B00ZV9PXP2</td>\n",
       "      <td>Amazon</td>\n",
       "      <td>Computers,Electronics Features,Tablets,Electro...</td>\n",
       "      <td>Electronics</td>\n",
       "      <td>Amazon</td>\n",
       "      <td>B00ZV9PXP2</td>\n",
       "      <td>2017-11-02T17:33:31.000Z</td>\n",
       "      <td>True</td>\n",
       "      <td>3.0</td>\n",
       "      <td>5.0</td>\n",
       "      <td>I am 100 happy with my purchase. I caught it o...</td>\n",
       "      <td>A Great Buy</td>\n",
       "      <td>0</td>\n",
       "      <td>1</td>\n",
       "    </tr>\n",
       "    <tr>\n",
       "      <th>4</th>\n",
       "      <td>AVqVGZNvQMlgsOJE6eUY</td>\n",
       "      <td>Amazon Kindle E-Reader 6\" Wifi (8th Generation...</td>\n",
       "      <td>B00ZV9PXP2</td>\n",
       "      <td>Amazon</td>\n",
       "      <td>Computers,Electronics Features,Tablets,Electro...</td>\n",
       "      <td>Electronics</td>\n",
       "      <td>Amazon</td>\n",
       "      <td>B00ZV9PXP2</td>\n",
       "      <td>2018-04-24T00:00:00.000Z</td>\n",
       "      <td>True</td>\n",
       "      <td>0.0</td>\n",
       "      <td>5.0</td>\n",
       "      <td>Solid entry level Kindle. Great for kids. Gift...</td>\n",
       "      <td>Solid entry-level Kindle. Great for kids</td>\n",
       "      <td>0</td>\n",
       "      <td>1</td>\n",
       "    </tr>\n",
       "  </tbody>\n",
       "</table>\n",
       "</div>"
      ],
      "text/plain": [
       "                     id                                               name  \\\n",
       "0  AVqVGZNvQMlgsOJE6eUY  Amazon Kindle E-Reader 6\" Wifi (8th Generation...   \n",
       "1  AVqVGZNvQMlgsOJE6eUY  Amazon Kindle E-Reader 6\" Wifi (8th Generation...   \n",
       "2  AVqVGZNvQMlgsOJE6eUY  Amazon Kindle E-Reader 6\" Wifi (8th Generation...   \n",
       "3  AVqVGZNvQMlgsOJE6eUY  Amazon Kindle E-Reader 6\" Wifi (8th Generation...   \n",
       "4  AVqVGZNvQMlgsOJE6eUY  Amazon Kindle E-Reader 6\" Wifi (8th Generation...   \n",
       "\n",
       "        asins   brand                                         categories  \\\n",
       "0  B00ZV9PXP2  Amazon  Computers,Electronics Features,Tablets,Electro...   \n",
       "1  B00ZV9PXP2  Amazon  Computers,Electronics Features,Tablets,Electro...   \n",
       "2  B00ZV9PXP2  Amazon  Computers,Electronics Features,Tablets,Electro...   \n",
       "3  B00ZV9PXP2  Amazon  Computers,Electronics Features,Tablets,Electro...   \n",
       "4  B00ZV9PXP2  Amazon  Computers,Electronics Features,Tablets,Electro...   \n",
       "\n",
       "  primaryCategories manufacturer manufacturerNumber              reviews_date  \\\n",
       "0       Electronics       Amazon         B00ZV9PXP2  2017-09-03T00:00:00.000Z   \n",
       "1       Electronics       Amazon         B00ZV9PXP2  2017-06-06T00:00:00.000Z   \n",
       "2       Electronics       Amazon         B00ZV9PXP2  2018-04-20T00:00:00.000Z   \n",
       "3       Electronics       Amazon         B00ZV9PXP2  2017-11-02T17:33:31.000Z   \n",
       "4       Electronics       Amazon         B00ZV9PXP2  2018-04-24T00:00:00.000Z   \n",
       "\n",
       "  reviews_doRecommend  reviews_numHelpful  reviews_rating  \\\n",
       "0               False                 0.0             3.0   \n",
       "1                True                 0.0             5.0   \n",
       "2                True                 0.0             4.0   \n",
       "3                True                 3.0             5.0   \n",
       "4                True                 0.0             5.0   \n",
       "\n",
       "                                        reviews_text  \\\n",
       "0  I thought it would be as big as small paper bu...   \n",
       "1  This kindle is light and easy to use especiall...   \n",
       "2  Didnt know how much i'd use a kindle so went f...   \n",
       "3  I am 100 happy with my purchase. I caught it o...   \n",
       "4  Solid entry level Kindle. Great for kids. Gift...   \n",
       "\n",
       "                                  reviews_title  not_recommended  recommended  \n",
       "0                                     Too small                1            0  \n",
       "1  Great light reader. Easy to use at the beach                0            1  \n",
       "2                           Great for the price                0            1  \n",
       "3                                   A Great Buy                0            1  \n",
       "4      Solid entry-level Kindle. Great for kids                0            1  "
      ]
     },
     "execution_count": 56,
     "metadata": {},
     "output_type": "execute_result"
    }
   ],
   "source": [
    "df.head()"
   ]
  },
  {
   "cell_type": "code",
   "execution_count": 57,
   "metadata": {},
   "outputs": [
    {
     "data": {
      "text/plain": [
       "array(['Electronics', 'Electronics,Hardware',\n",
       "       'Office Supplies,Electronics', 'Electronics,Media',\n",
       "       'Electronics,Furniture', 'Toys & Games,Electronics', nan],\n",
       "      dtype=object)"
      ]
     },
     "execution_count": 57,
     "metadata": {},
     "output_type": "execute_result"
    }
   ],
   "source": [
    "#clean up descriptive values\n",
    "df['primaryCategories'].unique()"
   ]
  },
  {
   "cell_type": "markdown",
   "metadata": {},
   "source": [
    "All of the products in the dataframe are considered electronics, but the primaryCategories section seems to be too broad and the product names are too long as well, so I am going to use natural language processing and neural networks to create a new category for each product based on the product name"
   ]
  },
  {
   "cell_type": "code",
   "execution_count": 58,
   "metadata": {},
   "outputs": [],
   "source": [
    "from gensim.models import Word2Vec\n",
    "from gensim.models import KeyedVectors\n",
    "from keras.layers import Flatten\n",
    "from keras.layers import MaxPooling1D\n",
    "from keras.models import Model\n",
    "from keras.preprocessing.sequence import pad_sequences\n",
    "from keras.preprocessing.text import Tokenizer\n",
    "from keras.utils import to_categorical"
   ]
  },
  {
   "cell_type": "code",
   "execution_count": 59,
   "metadata": {},
   "outputs": [
    {
     "data": {
      "text/plain": [
       "array(['Amazon Kindle E-Reader 6\" Wifi (8th Generation, 2016)',\n",
       "       'Amazon Echo Show Alexa-enabled Bluetooth Speaker with 7\" Screen',\n",
       "       'Amazon Fire TV with 4K Ultra HD and Alexa Voice Remote (Pendant Design) | Streaming Media Player',\n",
       "       'Amazon - Echo Plus w/ Built-In Hub - Silver',\n",
       "       'Amazon 9W PowerFast Official OEM USB Charger and Power Adapter for Fire Tablets and Kindle eReaders',\n",
       "       'Fire Kids Edition Tablet, 7 Display, Wi-Fi, 16 GB, Blue Kid-Proof Case',\n",
       "       'Kindle E-reader - White, 6 Glare-Free Touchscreen Display, Wi-Fi - Includes Special Offers',\n",
       "       'Fire Tablet, 7 Display, Wi-Fi, 16 GB - Includes Special Offers, Black',\n",
       "       'Fire Kids Edition Tablet, 7 Display, Wi-Fi, 16 GB, Green Kid-Proof Case',\n",
       "       'All-New Fire HD 8 Tablet, 8 HD Display, Wi-Fi, 16 GB - Includes Special Offers, Blue',\n",
       "       'All-New Fire HD 8 Tablet, 8 HD Display, Wi-Fi, 32 GB - Includes Special Offers, Blue',\n",
       "       'Amazon Tap - Alexa-Enabled Portable Bluetooth Speaker',\n",
       "       'Fire HD 10 Tablet, 10.1 HD Display, Wi-Fi, 16 GB - Includes Special Offers, Silver Aluminum',\n",
       "       'Kindle Oasis E-reader with Leather Charging Cover - Merlot, 6 High-Resolution Display (300 ppi), Wi-Fi - Includes Special Offers',\n",
       "       'Amazon - Kindle Voyage - 6\" - 4GB - Black',\n",
       "       'All-New Fire HD 8 Tablet, 8\" HD Display, Wi-Fi, 16 GB - Includes Special Offers, Magenta',\n",
       "       'Brand New Amazon Kindle Fire 16gb 7\" Ips Display Tablet Wifi 16 Gb Blue',\n",
       "       'Amazon - Kindle Voyage - 4GB - Wi-Fi + 3G - Black',\n",
       "       'Fire HD 8 Tablet with Alexa, 8\" HD Display, 32 GB, Tangerine - with Special Offers',\n",
       "       'Kindle Oasis E-reader with Leather Charging Cover - Black, 6\" High-Resolution Display (300 ppi), Wi-Fi - Includes Special Offers',\n",
       "       'All-New Fire HD 8 Tablet, 8\" HD Display, Wi-Fi, 32 GB - Includes Special Offers, Black',\n",
       "       'All-New Fire HD 8 Tablet, 8\" HD Display, Wi-Fi, 32 GB - Includes Special Offers, Magenta',\n",
       "       'Fire Tablet with Alexa, 7\" Display, 16 GB, Magenta - with Special Offers',\n",
       "       'Echo Spot Pair Kit (Black)',\n",
       "       'Amazon Tap Smart Assistant Alexaenabled (black) Brand New',\n",
       "       'All-New Kindle E-reader - Black, 6\" Glare-Free Touchscreen Display, Wi-Fi - Includes Special Offers',\n",
       "       'Amazon Echo (2nd Generation) Smart Assistant Oak Finish Priority Shipping',\n",
       "       'Kindle Voyage E-reader, 6 High-Resolution Display (300 ppi) with Adaptive Built-in Light, PagePress Sensors, Wi-Fi - Includes Special Offers',\n",
       "       'All-new Echo (2nd Generation) with improved sound, powered by Dolby, and a new design Walnut Finish',\n",
       "       'All-New Fire HD 8 Tablet, 8 HD Display, Wi-Fi, 16 GB - Includes Special Offers, Black',\n",
       "       'Fire Kids Edition Tablet, 7 Display, Wi-Fi, 16 GB, Pink Kid-Proof Case',\n",
       "       'All-New Fire HD 8 Tablet, 8 HD Display, Wi-Fi, 32 GB - Includes Special Offers, Magenta',\n",
       "       'All-New Fire HD 8 Tablet, 8 HD Display, Wi-Fi, 32 GB - Includes Special Offers, Black',\n",
       "       'Kindle Oasis E-reader with Leather Charging Cover - Black, 6 High-Resolution Display (300 ppi), Wi-Fi - Includes Special Offers',\n",
       "       'Kindle Voyage E-reader, 6 High-Resolution Display (300 ppi) with Adaptive Built-in Light, PagePress Sensors, Free 3G + Wi-Fi - Includes Special Offers',\n",
       "       'All-New Fire 7 Tablet with Alexa, 7\" Display, 8 GB - Marine Blue',\n",
       "       'Amazon Fire HD 8 with Alexa (8\" HD Display Tablet)',\n",
       "       'All-New Kindle Oasis E-reader - 7 High-Resolution Display (300 ppi), Waterproof, Built-In Audible, 32 GB, Wi-Fi + Free Cellular Connectivity',\n",
       "       'All-New Fire HD 8 Kids Edition Tablet, 8 HD Display, 32 GB, Pink Kid-Proof Case',\n",
       "       'All-New Fire HD 8 Kids Edition Tablet, 8 HD Display, 32 GB, Blue Kid-Proof Case',\n",
       "       'All-New Fire HD 8 Tablet with Alexa, 8 HD Display, 16 GB, Marine Blue - with Special Offers',\n",
       "       'All-New Fire HD 8 Tablet with Alexa, 8 HD Display, 32 GB, Marine Blue - with Special Offers',\n",
       "       'Fire Tablet with Alexa, 7 Display, 16 GB, Magenta - with Special Offers',\n",
       "       'Fire Tablet with Alexa, 7 Display, 16 GB, Blue - with Special Offers',\n",
       "       'Kindle Oasis E-reader with Leather Charging Cover - Walnut, 6 High-Resolution Display (300 ppi), Wi-Fi - Includes Special Offers',\n",
       "       'All-New Kindle Oasis E-reader - 7 High-Resolution Display (300 ppi), Waterproof, Built-In Audible, 8 GB, Wi-Fi - Includes Special Offers',\n",
       "       'Fire HD 8 Tablet with Alexa, 8 HD Display, 32 GB, Tangerine - with Special Offers',\n",
       "       'All-New Kindle Oasis E-reader - 7 High-Resolution Display (300 ppi), Waterproof, Built-In Audible, 32 GB, Wi-Fi - Includes Special Offers',\n",
       "       'Fire HD 8 Tablet with Alexa, 8 HD Display, 16 GB, Tangerine - with Special Offers'],\n",
       "      dtype=object)"
      ]
     },
     "execution_count": 59,
     "metadata": {},
     "output_type": "execute_result"
    }
   ],
   "source": [
    "#prepare for clustering based on product name\n",
    "df['name'].unique()"
   ]
  },
  {
   "cell_type": "code",
   "execution_count": 60,
   "metadata": {},
   "outputs": [
    {
     "data": {
      "text/plain": [
       "49"
      ]
     },
     "execution_count": 60,
     "metadata": {},
     "output_type": "execute_result"
    }
   ],
   "source": [
    "len(df['name'].unique())"
   ]
  },
  {
   "cell_type": "code",
   "execution_count": 61,
   "metadata": {},
   "outputs": [],
   "source": [
    "#let's drop the primaryCategories column so I can create new category names based on the names\n",
    "df = df.drop('primaryCategories', axis=1)"
   ]
  },
  {
   "cell_type": "code",
   "execution_count": 62,
   "metadata": {
    "scrolled": true
   },
   "outputs": [
    {
     "data": {
      "text/html": [
       "<div>\n",
       "<style scoped>\n",
       "    .dataframe tbody tr th:only-of-type {\n",
       "        vertical-align: middle;\n",
       "    }\n",
       "\n",
       "    .dataframe tbody tr th {\n",
       "        vertical-align: top;\n",
       "    }\n",
       "\n",
       "    .dataframe thead th {\n",
       "        text-align: right;\n",
       "    }\n",
       "</style>\n",
       "<table border=\"1\" class=\"dataframe\">\n",
       "  <thead>\n",
       "    <tr style=\"text-align: right;\">\n",
       "      <th></th>\n",
       "      <th>id</th>\n",
       "      <th>name</th>\n",
       "      <th>asins</th>\n",
       "      <th>brand</th>\n",
       "      <th>categories</th>\n",
       "      <th>manufacturer</th>\n",
       "      <th>manufacturerNumber</th>\n",
       "      <th>reviews_date</th>\n",
       "      <th>reviews_doRecommend</th>\n",
       "      <th>reviews_numHelpful</th>\n",
       "      <th>reviews_rating</th>\n",
       "      <th>reviews_text</th>\n",
       "      <th>reviews_title</th>\n",
       "      <th>not_recommended</th>\n",
       "      <th>recommended</th>\n",
       "    </tr>\n",
       "  </thead>\n",
       "  <tbody>\n",
       "    <tr>\n",
       "      <th>0</th>\n",
       "      <td>AVqVGZNvQMlgsOJE6eUY</td>\n",
       "      <td>Amazon Kindle E-Reader 6\" Wifi (8th Generation...</td>\n",
       "      <td>B00ZV9PXP2</td>\n",
       "      <td>Amazon</td>\n",
       "      <td>Computers,Electronics Features,Tablets,Electro...</td>\n",
       "      <td>Amazon</td>\n",
       "      <td>B00ZV9PXP2</td>\n",
       "      <td>2017-09-03T00:00:00.000Z</td>\n",
       "      <td>False</td>\n",
       "      <td>0.0</td>\n",
       "      <td>3.0</td>\n",
       "      <td>I thought it would be as big as small paper bu...</td>\n",
       "      <td>Too small</td>\n",
       "      <td>1</td>\n",
       "      <td>0</td>\n",
       "    </tr>\n",
       "    <tr>\n",
       "      <th>1</th>\n",
       "      <td>AVqVGZNvQMlgsOJE6eUY</td>\n",
       "      <td>Amazon Kindle E-Reader 6\" Wifi (8th Generation...</td>\n",
       "      <td>B00ZV9PXP2</td>\n",
       "      <td>Amazon</td>\n",
       "      <td>Computers,Electronics Features,Tablets,Electro...</td>\n",
       "      <td>Amazon</td>\n",
       "      <td>B00ZV9PXP2</td>\n",
       "      <td>2017-06-06T00:00:00.000Z</td>\n",
       "      <td>True</td>\n",
       "      <td>0.0</td>\n",
       "      <td>5.0</td>\n",
       "      <td>This kindle is light and easy to use especiall...</td>\n",
       "      <td>Great light reader. Easy to use at the beach</td>\n",
       "      <td>0</td>\n",
       "      <td>1</td>\n",
       "    </tr>\n",
       "    <tr>\n",
       "      <th>2</th>\n",
       "      <td>AVqVGZNvQMlgsOJE6eUY</td>\n",
       "      <td>Amazon Kindle E-Reader 6\" Wifi (8th Generation...</td>\n",
       "      <td>B00ZV9PXP2</td>\n",
       "      <td>Amazon</td>\n",
       "      <td>Computers,Electronics Features,Tablets,Electro...</td>\n",
       "      <td>Amazon</td>\n",
       "      <td>B00ZV9PXP2</td>\n",
       "      <td>2018-04-20T00:00:00.000Z</td>\n",
       "      <td>True</td>\n",
       "      <td>0.0</td>\n",
       "      <td>4.0</td>\n",
       "      <td>Didnt know how much i'd use a kindle so went f...</td>\n",
       "      <td>Great for the price</td>\n",
       "      <td>0</td>\n",
       "      <td>1</td>\n",
       "    </tr>\n",
       "    <tr>\n",
       "      <th>3</th>\n",
       "      <td>AVqVGZNvQMlgsOJE6eUY</td>\n",
       "      <td>Amazon Kindle E-Reader 6\" Wifi (8th Generation...</td>\n",
       "      <td>B00ZV9PXP2</td>\n",
       "      <td>Amazon</td>\n",
       "      <td>Computers,Electronics Features,Tablets,Electro...</td>\n",
       "      <td>Amazon</td>\n",
       "      <td>B00ZV9PXP2</td>\n",
       "      <td>2017-11-02T17:33:31.000Z</td>\n",
       "      <td>True</td>\n",
       "      <td>3.0</td>\n",
       "      <td>5.0</td>\n",
       "      <td>I am 100 happy with my purchase. I caught it o...</td>\n",
       "      <td>A Great Buy</td>\n",
       "      <td>0</td>\n",
       "      <td>1</td>\n",
       "    </tr>\n",
       "    <tr>\n",
       "      <th>4</th>\n",
       "      <td>AVqVGZNvQMlgsOJE6eUY</td>\n",
       "      <td>Amazon Kindle E-Reader 6\" Wifi (8th Generation...</td>\n",
       "      <td>B00ZV9PXP2</td>\n",
       "      <td>Amazon</td>\n",
       "      <td>Computers,Electronics Features,Tablets,Electro...</td>\n",
       "      <td>Amazon</td>\n",
       "      <td>B00ZV9PXP2</td>\n",
       "      <td>2018-04-24T00:00:00.000Z</td>\n",
       "      <td>True</td>\n",
       "      <td>0.0</td>\n",
       "      <td>5.0</td>\n",
       "      <td>Solid entry level Kindle. Great for kids. Gift...</td>\n",
       "      <td>Solid entry-level Kindle. Great for kids</td>\n",
       "      <td>0</td>\n",
       "      <td>1</td>\n",
       "    </tr>\n",
       "  </tbody>\n",
       "</table>\n",
       "</div>"
      ],
      "text/plain": [
       "                     id                                               name  \\\n",
       "0  AVqVGZNvQMlgsOJE6eUY  Amazon Kindle E-Reader 6\" Wifi (8th Generation...   \n",
       "1  AVqVGZNvQMlgsOJE6eUY  Amazon Kindle E-Reader 6\" Wifi (8th Generation...   \n",
       "2  AVqVGZNvQMlgsOJE6eUY  Amazon Kindle E-Reader 6\" Wifi (8th Generation...   \n",
       "3  AVqVGZNvQMlgsOJE6eUY  Amazon Kindle E-Reader 6\" Wifi (8th Generation...   \n",
       "4  AVqVGZNvQMlgsOJE6eUY  Amazon Kindle E-Reader 6\" Wifi (8th Generation...   \n",
       "\n",
       "        asins   brand                                         categories  \\\n",
       "0  B00ZV9PXP2  Amazon  Computers,Electronics Features,Tablets,Electro...   \n",
       "1  B00ZV9PXP2  Amazon  Computers,Electronics Features,Tablets,Electro...   \n",
       "2  B00ZV9PXP2  Amazon  Computers,Electronics Features,Tablets,Electro...   \n",
       "3  B00ZV9PXP2  Amazon  Computers,Electronics Features,Tablets,Electro...   \n",
       "4  B00ZV9PXP2  Amazon  Computers,Electronics Features,Tablets,Electro...   \n",
       "\n",
       "  manufacturer manufacturerNumber              reviews_date  \\\n",
       "0       Amazon         B00ZV9PXP2  2017-09-03T00:00:00.000Z   \n",
       "1       Amazon         B00ZV9PXP2  2017-06-06T00:00:00.000Z   \n",
       "2       Amazon         B00ZV9PXP2  2018-04-20T00:00:00.000Z   \n",
       "3       Amazon         B00ZV9PXP2  2017-11-02T17:33:31.000Z   \n",
       "4       Amazon         B00ZV9PXP2  2018-04-24T00:00:00.000Z   \n",
       "\n",
       "  reviews_doRecommend  reviews_numHelpful  reviews_rating  \\\n",
       "0               False                 0.0             3.0   \n",
       "1                True                 0.0             5.0   \n",
       "2                True                 0.0             4.0   \n",
       "3                True                 3.0             5.0   \n",
       "4                True                 0.0             5.0   \n",
       "\n",
       "                                        reviews_text  \\\n",
       "0  I thought it would be as big as small paper bu...   \n",
       "1  This kindle is light and easy to use especiall...   \n",
       "2  Didnt know how much i'd use a kindle so went f...   \n",
       "3  I am 100 happy with my purchase. I caught it o...   \n",
       "4  Solid entry level Kindle. Great for kids. Gift...   \n",
       "\n",
       "                                  reviews_title  not_recommended  recommended  \n",
       "0                                     Too small                1            0  \n",
       "1  Great light reader. Easy to use at the beach                0            1  \n",
       "2                           Great for the price                0            1  \n",
       "3                                   A Great Buy                0            1  \n",
       "4      Solid entry-level Kindle. Great for kids                0            1  "
      ]
     },
     "execution_count": 62,
     "metadata": {},
     "output_type": "execute_result"
    }
   ],
   "source": [
    "df.head()"
   ]
  },
  {
   "cell_type": "code",
   "execution_count": 63,
   "metadata": {},
   "outputs": [
    {
     "data": {
      "text/plain": [
       "array(['Amazon Kindle E-Reader 6\" Wifi (8th Generation, 2016)',\n",
       "       'Amazon Echo Show Alexa-enabled Bluetooth Speaker with 7\" Screen',\n",
       "       'Amazon Fire TV with 4K Ultra HD and Alexa Voice Remote (Pendant Design) | Streaming Media Player',\n",
       "       'Amazon - Echo Plus w/ Built-In Hub - Silver',\n",
       "       'Amazon 9W PowerFast Official OEM USB Charger and Power Adapter for Fire Tablets and Kindle eReaders',\n",
       "       'Fire Kids Edition Tablet, 7 Display, Wi-Fi, 16 GB, Blue Kid-Proof Case',\n",
       "       'Kindle E-reader - White, 6 Glare-Free Touchscreen Display, Wi-Fi - Includes Special Offers',\n",
       "       'Fire Tablet, 7 Display, Wi-Fi, 16 GB - Includes Special Offers, Black',\n",
       "       'Fire Kids Edition Tablet, 7 Display, Wi-Fi, 16 GB, Green Kid-Proof Case',\n",
       "       'All-New Fire HD 8 Tablet, 8 HD Display, Wi-Fi, 16 GB - Includes Special Offers, Blue',\n",
       "       'All-New Fire HD 8 Tablet, 8 HD Display, Wi-Fi, 32 GB - Includes Special Offers, Blue',\n",
       "       'Amazon Tap - Alexa-Enabled Portable Bluetooth Speaker',\n",
       "       'Fire HD 10 Tablet, 10.1 HD Display, Wi-Fi, 16 GB - Includes Special Offers, Silver Aluminum',\n",
       "       'Kindle Oasis E-reader with Leather Charging Cover - Merlot, 6 High-Resolution Display (300 ppi), Wi-Fi - Includes Special Offers',\n",
       "       'Amazon - Kindle Voyage - 6\" - 4GB - Black',\n",
       "       'All-New Fire HD 8 Tablet, 8\" HD Display, Wi-Fi, 16 GB - Includes Special Offers, Magenta',\n",
       "       'Brand New Amazon Kindle Fire 16gb 7\" Ips Display Tablet Wifi 16 Gb Blue',\n",
       "       'Amazon - Kindle Voyage - 4GB - Wi-Fi + 3G - Black',\n",
       "       'Fire HD 8 Tablet with Alexa, 8\" HD Display, 32 GB, Tangerine - with Special Offers',\n",
       "       'Kindle Oasis E-reader with Leather Charging Cover - Black, 6\" High-Resolution Display (300 ppi), Wi-Fi - Includes Special Offers',\n",
       "       'All-New Fire HD 8 Tablet, 8\" HD Display, Wi-Fi, 32 GB - Includes Special Offers, Black',\n",
       "       'All-New Fire HD 8 Tablet, 8\" HD Display, Wi-Fi, 32 GB - Includes Special Offers, Magenta',\n",
       "       'Fire Tablet with Alexa, 7\" Display, 16 GB, Magenta - with Special Offers',\n",
       "       'Echo Spot Pair Kit (Black)',\n",
       "       'Amazon Tap Smart Assistant Alexaenabled (black) Brand New',\n",
       "       'All-New Kindle E-reader - Black, 6\" Glare-Free Touchscreen Display, Wi-Fi - Includes Special Offers',\n",
       "       'Amazon Echo (2nd Generation) Smart Assistant Oak Finish Priority Shipping',\n",
       "       'Kindle Voyage E-reader, 6 High-Resolution Display (300 ppi) with Adaptive Built-in Light, PagePress Sensors, Wi-Fi - Includes Special Offers',\n",
       "       'All-new Echo (2nd Generation) with improved sound, powered by Dolby, and a new design Walnut Finish',\n",
       "       'All-New Fire HD 8 Tablet, 8 HD Display, Wi-Fi, 16 GB - Includes Special Offers, Black',\n",
       "       'Fire Kids Edition Tablet, 7 Display, Wi-Fi, 16 GB, Pink Kid-Proof Case',\n",
       "       'All-New Fire HD 8 Tablet, 8 HD Display, Wi-Fi, 32 GB - Includes Special Offers, Magenta',\n",
       "       'All-New Fire HD 8 Tablet, 8 HD Display, Wi-Fi, 32 GB - Includes Special Offers, Black',\n",
       "       'Kindle Oasis E-reader with Leather Charging Cover - Black, 6 High-Resolution Display (300 ppi), Wi-Fi - Includes Special Offers',\n",
       "       'Kindle Voyage E-reader, 6 High-Resolution Display (300 ppi) with Adaptive Built-in Light, PagePress Sensors, Free 3G + Wi-Fi - Includes Special Offers',\n",
       "       'All-New Fire 7 Tablet with Alexa, 7\" Display, 8 GB - Marine Blue',\n",
       "       'Amazon Fire HD 8 with Alexa (8\" HD Display Tablet)',\n",
       "       'All-New Kindle Oasis E-reader - 7 High-Resolution Display (300 ppi), Waterproof, Built-In Audible, 32 GB, Wi-Fi + Free Cellular Connectivity',\n",
       "       'All-New Fire HD 8 Kids Edition Tablet, 8 HD Display, 32 GB, Pink Kid-Proof Case',\n",
       "       'All-New Fire HD 8 Kids Edition Tablet, 8 HD Display, 32 GB, Blue Kid-Proof Case',\n",
       "       'All-New Fire HD 8 Tablet with Alexa, 8 HD Display, 16 GB, Marine Blue - with Special Offers',\n",
       "       'All-New Fire HD 8 Tablet with Alexa, 8 HD Display, 32 GB, Marine Blue - with Special Offers',\n",
       "       'Fire Tablet with Alexa, 7 Display, 16 GB, Magenta - with Special Offers',\n",
       "       'Fire Tablet with Alexa, 7 Display, 16 GB, Blue - with Special Offers',\n",
       "       'Kindle Oasis E-reader with Leather Charging Cover - Walnut, 6 High-Resolution Display (300 ppi), Wi-Fi - Includes Special Offers',\n",
       "       'All-New Kindle Oasis E-reader - 7 High-Resolution Display (300 ppi), Waterproof, Built-In Audible, 8 GB, Wi-Fi - Includes Special Offers',\n",
       "       'Fire HD 8 Tablet with Alexa, 8 HD Display, 32 GB, Tangerine - with Special Offers',\n",
       "       'All-New Kindle Oasis E-reader - 7 High-Resolution Display (300 ppi), Waterproof, Built-In Audible, 32 GB, Wi-Fi - Includes Special Offers',\n",
       "       'Fire HD 8 Tablet with Alexa, 8 HD Display, 16 GB, Tangerine - with Special Offers'],\n",
       "      dtype=object)"
      ]
     },
     "execution_count": 63,
     "metadata": {},
     "output_type": "execute_result"
    }
   ],
   "source": [
    "df['name'].unique()"
   ]
  },
  {
   "cell_type": "code",
   "execution_count": 64,
   "metadata": {},
   "outputs": [],
   "source": [
    "df['name'] = df.name.str.replace('\"','')\n",
    "df['name'] = df.name.str.replace('-','')\n",
    "df['name'] = df.name.str.replace(',','')\n",
    "df['name'] = df.name.str.replace('+','')\n",
    "df['name'] = df.name.str.replace('(','')\n",
    "df['name'] = df.name.str.replace(')','')\n",
    "df['name'] = df.name.str.replace('w/','with')\n",
    "df['name'] = df.name.str.lower()"
   ]
  },
  {
   "cell_type": "code",
   "execution_count": 65,
   "metadata": {},
   "outputs": [
    {
     "data": {
      "text/plain": [
       "array(['amazon kindle ereader 6 wifi 8th generation 2016',\n",
       "       'amazon echo show alexaenabled bluetooth speaker with 7 screen',\n",
       "       'amazon fire tv with 4k ultra hd and alexa voice remote pendant design | streaming media player',\n",
       "       'amazon  echo plus with builtin hub  silver',\n",
       "       'amazon 9w powerfast official oem usb charger and power adapter for fire tablets and kindle ereaders',\n",
       "       'fire kids edition tablet 7 display wifi 16 gb blue kidproof case',\n",
       "       'kindle ereader  white 6 glarefree touchscreen display wifi  includes special offers',\n",
       "       'fire tablet 7 display wifi 16 gb  includes special offers black',\n",
       "       'fire kids edition tablet 7 display wifi 16 gb green kidproof case',\n",
       "       'allnew fire hd 8 tablet 8 hd display wifi 16 gb  includes special offers blue',\n",
       "       'allnew fire hd 8 tablet 8 hd display wifi 32 gb  includes special offers blue',\n",
       "       'amazon tap  alexaenabled portable bluetooth speaker',\n",
       "       'fire hd 10 tablet 10.1 hd display wifi 16 gb  includes special offers silver aluminum',\n",
       "       'kindle oasis ereader with leather charging cover  merlot 6 highresolution display 300 ppi wifi  includes special offers',\n",
       "       'amazon  kindle voyage  6  4gb  black',\n",
       "       'allnew fire hd 8 tablet 8 hd display wifi 16 gb  includes special offers magenta',\n",
       "       'brand new amazon kindle fire 16gb 7 ips display tablet wifi 16 gb blue',\n",
       "       'amazon  kindle voyage  4gb  wifi  3g  black',\n",
       "       'fire hd 8 tablet with alexa 8 hd display 32 gb tangerine  with special offers',\n",
       "       'kindle oasis ereader with leather charging cover  black 6 highresolution display 300 ppi wifi  includes special offers',\n",
       "       'allnew fire hd 8 tablet 8 hd display wifi 32 gb  includes special offers black',\n",
       "       'allnew fire hd 8 tablet 8 hd display wifi 32 gb  includes special offers magenta',\n",
       "       'fire tablet with alexa 7 display 16 gb magenta  with special offers',\n",
       "       'echo spot pair kit black',\n",
       "       'amazon tap smart assistant alexaenabled black brand new',\n",
       "       'allnew kindle ereader  black 6 glarefree touchscreen display wifi  includes special offers',\n",
       "       'amazon echo 2nd generation smart assistant oak finish priority shipping',\n",
       "       'kindle voyage ereader 6 highresolution display 300 ppi with adaptive builtin light pagepress sensors wifi  includes special offers',\n",
       "       'allnew echo 2nd generation with improved sound powered by dolby and a new design walnut finish',\n",
       "       'allnew fire hd 8 tablet 8 hd display wifi 16 gb  includes special offers black',\n",
       "       'fire kids edition tablet 7 display wifi 16 gb pink kidproof case',\n",
       "       'kindle voyage ereader 6 highresolution display 300 ppi with adaptive builtin light pagepress sensors free 3g  wifi  includes special offers',\n",
       "       'allnew fire 7 tablet with alexa 7 display 8 gb  marine blue',\n",
       "       'amazon fire hd 8 with alexa 8 hd display tablet',\n",
       "       'allnew kindle oasis ereader  7 highresolution display 300 ppi waterproof builtin audible 32 gb wifi  free cellular connectivity',\n",
       "       'allnew fire hd 8 kids edition tablet 8 hd display 32 gb pink kidproof case',\n",
       "       'allnew fire hd 8 kids edition tablet 8 hd display 32 gb blue kidproof case',\n",
       "       'allnew fire hd 8 tablet with alexa 8 hd display 16 gb marine blue  with special offers',\n",
       "       'allnew fire hd 8 tablet with alexa 8 hd display 32 gb marine blue  with special offers',\n",
       "       'fire tablet with alexa 7 display 16 gb blue  with special offers',\n",
       "       'kindle oasis ereader with leather charging cover  walnut 6 highresolution display 300 ppi wifi  includes special offers',\n",
       "       'allnew kindle oasis ereader  7 highresolution display 300 ppi waterproof builtin audible 8 gb wifi  includes special offers',\n",
       "       'allnew kindle oasis ereader  7 highresolution display 300 ppi waterproof builtin audible 32 gb wifi  includes special offers',\n",
       "       'fire hd 8 tablet with alexa 8 hd display 16 gb tangerine  with special offers'],\n",
       "      dtype=object)"
      ]
     },
     "execution_count": 65,
     "metadata": {},
     "output_type": "execute_result"
    }
   ],
   "source": [
    "df['name'].unique()"
   ]
  },
  {
   "cell_type": "code",
   "execution_count": 66,
   "metadata": {},
   "outputs": [],
   "source": [
    "df['tokenized_name'] = df['name'].apply(word_tokenize) "
   ]
  },
  {
   "cell_type": "code",
   "execution_count": 67,
   "metadata": {},
   "outputs": [
    {
     "data": {
      "text/html": [
       "<div>\n",
       "<style scoped>\n",
       "    .dataframe tbody tr th:only-of-type {\n",
       "        vertical-align: middle;\n",
       "    }\n",
       "\n",
       "    .dataframe tbody tr th {\n",
       "        vertical-align: top;\n",
       "    }\n",
       "\n",
       "    .dataframe thead th {\n",
       "        text-align: right;\n",
       "    }\n",
       "</style>\n",
       "<table border=\"1\" class=\"dataframe\">\n",
       "  <thead>\n",
       "    <tr style=\"text-align: right;\">\n",
       "      <th></th>\n",
       "      <th>id</th>\n",
       "      <th>name</th>\n",
       "      <th>asins</th>\n",
       "      <th>brand</th>\n",
       "      <th>categories</th>\n",
       "      <th>manufacturer</th>\n",
       "      <th>manufacturerNumber</th>\n",
       "      <th>reviews_date</th>\n",
       "      <th>reviews_doRecommend</th>\n",
       "      <th>reviews_numHelpful</th>\n",
       "      <th>reviews_rating</th>\n",
       "      <th>reviews_text</th>\n",
       "      <th>reviews_title</th>\n",
       "      <th>not_recommended</th>\n",
       "      <th>recommended</th>\n",
       "      <th>tokenized_name</th>\n",
       "    </tr>\n",
       "  </thead>\n",
       "  <tbody>\n",
       "    <tr>\n",
       "      <th>0</th>\n",
       "      <td>AVqVGZNvQMlgsOJE6eUY</td>\n",
       "      <td>amazon kindle ereader 6 wifi 8th generation 2016</td>\n",
       "      <td>B00ZV9PXP2</td>\n",
       "      <td>Amazon</td>\n",
       "      <td>Computers,Electronics Features,Tablets,Electro...</td>\n",
       "      <td>Amazon</td>\n",
       "      <td>B00ZV9PXP2</td>\n",
       "      <td>2017-09-03T00:00:00.000Z</td>\n",
       "      <td>False</td>\n",
       "      <td>0.0</td>\n",
       "      <td>3.0</td>\n",
       "      <td>I thought it would be as big as small paper bu...</td>\n",
       "      <td>Too small</td>\n",
       "      <td>1</td>\n",
       "      <td>0</td>\n",
       "      <td>[amazon, kindle, ereader, 6, wifi, 8th, genera...</td>\n",
       "    </tr>\n",
       "    <tr>\n",
       "      <th>1</th>\n",
       "      <td>AVqVGZNvQMlgsOJE6eUY</td>\n",
       "      <td>amazon kindle ereader 6 wifi 8th generation 2016</td>\n",
       "      <td>B00ZV9PXP2</td>\n",
       "      <td>Amazon</td>\n",
       "      <td>Computers,Electronics Features,Tablets,Electro...</td>\n",
       "      <td>Amazon</td>\n",
       "      <td>B00ZV9PXP2</td>\n",
       "      <td>2017-06-06T00:00:00.000Z</td>\n",
       "      <td>True</td>\n",
       "      <td>0.0</td>\n",
       "      <td>5.0</td>\n",
       "      <td>This kindle is light and easy to use especiall...</td>\n",
       "      <td>Great light reader. Easy to use at the beach</td>\n",
       "      <td>0</td>\n",
       "      <td>1</td>\n",
       "      <td>[amazon, kindle, ereader, 6, wifi, 8th, genera...</td>\n",
       "    </tr>\n",
       "    <tr>\n",
       "      <th>2</th>\n",
       "      <td>AVqVGZNvQMlgsOJE6eUY</td>\n",
       "      <td>amazon kindle ereader 6 wifi 8th generation 2016</td>\n",
       "      <td>B00ZV9PXP2</td>\n",
       "      <td>Amazon</td>\n",
       "      <td>Computers,Electronics Features,Tablets,Electro...</td>\n",
       "      <td>Amazon</td>\n",
       "      <td>B00ZV9PXP2</td>\n",
       "      <td>2018-04-20T00:00:00.000Z</td>\n",
       "      <td>True</td>\n",
       "      <td>0.0</td>\n",
       "      <td>4.0</td>\n",
       "      <td>Didnt know how much i'd use a kindle so went f...</td>\n",
       "      <td>Great for the price</td>\n",
       "      <td>0</td>\n",
       "      <td>1</td>\n",
       "      <td>[amazon, kindle, ereader, 6, wifi, 8th, genera...</td>\n",
       "    </tr>\n",
       "    <tr>\n",
       "      <th>3</th>\n",
       "      <td>AVqVGZNvQMlgsOJE6eUY</td>\n",
       "      <td>amazon kindle ereader 6 wifi 8th generation 2016</td>\n",
       "      <td>B00ZV9PXP2</td>\n",
       "      <td>Amazon</td>\n",
       "      <td>Computers,Electronics Features,Tablets,Electro...</td>\n",
       "      <td>Amazon</td>\n",
       "      <td>B00ZV9PXP2</td>\n",
       "      <td>2017-11-02T17:33:31.000Z</td>\n",
       "      <td>True</td>\n",
       "      <td>3.0</td>\n",
       "      <td>5.0</td>\n",
       "      <td>I am 100 happy with my purchase. I caught it o...</td>\n",
       "      <td>A Great Buy</td>\n",
       "      <td>0</td>\n",
       "      <td>1</td>\n",
       "      <td>[amazon, kindle, ereader, 6, wifi, 8th, genera...</td>\n",
       "    </tr>\n",
       "    <tr>\n",
       "      <th>4</th>\n",
       "      <td>AVqVGZNvQMlgsOJE6eUY</td>\n",
       "      <td>amazon kindle ereader 6 wifi 8th generation 2016</td>\n",
       "      <td>B00ZV9PXP2</td>\n",
       "      <td>Amazon</td>\n",
       "      <td>Computers,Electronics Features,Tablets,Electro...</td>\n",
       "      <td>Amazon</td>\n",
       "      <td>B00ZV9PXP2</td>\n",
       "      <td>2018-04-24T00:00:00.000Z</td>\n",
       "      <td>True</td>\n",
       "      <td>0.0</td>\n",
       "      <td>5.0</td>\n",
       "      <td>Solid entry level Kindle. Great for kids. Gift...</td>\n",
       "      <td>Solid entry-level Kindle. Great for kids</td>\n",
       "      <td>0</td>\n",
       "      <td>1</td>\n",
       "      <td>[amazon, kindle, ereader, 6, wifi, 8th, genera...</td>\n",
       "    </tr>\n",
       "  </tbody>\n",
       "</table>\n",
       "</div>"
      ],
      "text/plain": [
       "                     id                                              name  \\\n",
       "0  AVqVGZNvQMlgsOJE6eUY  amazon kindle ereader 6 wifi 8th generation 2016   \n",
       "1  AVqVGZNvQMlgsOJE6eUY  amazon kindle ereader 6 wifi 8th generation 2016   \n",
       "2  AVqVGZNvQMlgsOJE6eUY  amazon kindle ereader 6 wifi 8th generation 2016   \n",
       "3  AVqVGZNvQMlgsOJE6eUY  amazon kindle ereader 6 wifi 8th generation 2016   \n",
       "4  AVqVGZNvQMlgsOJE6eUY  amazon kindle ereader 6 wifi 8th generation 2016   \n",
       "\n",
       "        asins   brand                                         categories  \\\n",
       "0  B00ZV9PXP2  Amazon  Computers,Electronics Features,Tablets,Electro...   \n",
       "1  B00ZV9PXP2  Amazon  Computers,Electronics Features,Tablets,Electro...   \n",
       "2  B00ZV9PXP2  Amazon  Computers,Electronics Features,Tablets,Electro...   \n",
       "3  B00ZV9PXP2  Amazon  Computers,Electronics Features,Tablets,Electro...   \n",
       "4  B00ZV9PXP2  Amazon  Computers,Electronics Features,Tablets,Electro...   \n",
       "\n",
       "  manufacturer manufacturerNumber              reviews_date  \\\n",
       "0       Amazon         B00ZV9PXP2  2017-09-03T00:00:00.000Z   \n",
       "1       Amazon         B00ZV9PXP2  2017-06-06T00:00:00.000Z   \n",
       "2       Amazon         B00ZV9PXP2  2018-04-20T00:00:00.000Z   \n",
       "3       Amazon         B00ZV9PXP2  2017-11-02T17:33:31.000Z   \n",
       "4       Amazon         B00ZV9PXP2  2018-04-24T00:00:00.000Z   \n",
       "\n",
       "  reviews_doRecommend  reviews_numHelpful  reviews_rating  \\\n",
       "0               False                 0.0             3.0   \n",
       "1                True                 0.0             5.0   \n",
       "2                True                 0.0             4.0   \n",
       "3                True                 3.0             5.0   \n",
       "4                True                 0.0             5.0   \n",
       "\n",
       "                                        reviews_text  \\\n",
       "0  I thought it would be as big as small paper bu...   \n",
       "1  This kindle is light and easy to use especiall...   \n",
       "2  Didnt know how much i'd use a kindle so went f...   \n",
       "3  I am 100 happy with my purchase. I caught it o...   \n",
       "4  Solid entry level Kindle. Great for kids. Gift...   \n",
       "\n",
       "                                  reviews_title  not_recommended  recommended  \\\n",
       "0                                     Too small                1            0   \n",
       "1  Great light reader. Easy to use at the beach                0            1   \n",
       "2                           Great for the price                0            1   \n",
       "3                                   A Great Buy                0            1   \n",
       "4      Solid entry-level Kindle. Great for kids                0            1   \n",
       "\n",
       "                                      tokenized_name  \n",
       "0  [amazon, kindle, ereader, 6, wifi, 8th, genera...  \n",
       "1  [amazon, kindle, ereader, 6, wifi, 8th, genera...  \n",
       "2  [amazon, kindle, ereader, 6, wifi, 8th, genera...  \n",
       "3  [amazon, kindle, ereader, 6, wifi, 8th, genera...  \n",
       "4  [amazon, kindle, ereader, 6, wifi, 8th, genera...  "
      ]
     },
     "execution_count": 67,
     "metadata": {},
     "output_type": "execute_result"
    }
   ],
   "source": [
    "df.head()"
   ]
  },
  {
   "cell_type": "code",
   "execution_count": 68,
   "metadata": {},
   "outputs": [],
   "source": [
    "names = df['tokenized_name'].values"
   ]
  },
  {
   "cell_type": "code",
   "execution_count": 69,
   "metadata": {},
   "outputs": [
    {
     "name": "stdout",
     "output_type": "stream",
     "text": [
      "[list(['amazon', 'kindle', 'ereader', '6', 'wifi', '8th', 'generation', '2016'])\n",
      " list(['amazon', 'kindle', 'ereader', '6', 'wifi', '8th', 'generation', '2016'])\n",
      " list(['amazon', 'kindle', 'ereader', '6', 'wifi', '8th', 'generation', '2016'])\n",
      " ...\n",
      " list(['amazon', 'tap', 'alexaenabled', 'portable', 'bluetooth', 'speaker'])\n",
      " list(['amazon', 'tap', 'alexaenabled', 'portable', 'bluetooth', 'speaker'])\n",
      " list(['amazon', 'tap', 'alexaenabled', 'portable', 'bluetooth', 'speaker'])]\n"
     ]
    }
   ],
   "source": [
    "print(names)"
   ]
  },
  {
   "cell_type": "code",
   "execution_count": 70,
   "metadata": {},
   "outputs": [],
   "source": [
    "def categ(tokens):\n",
    "    if 'voyage' in tokens or 'ereader' in tokens:\n",
    "        return 'E-Reader'\n",
    "    elif 'charger' in tokens:\n",
    "        return 'Charger'\n",
    "    elif 'case' in tokens:\n",
    "        return 'Cases' \n",
    "    elif 'tablet' in tokens:\n",
    "        return 'Tablets' \n",
    "    elif 'echo' in tokens:\n",
    "        return 'Personal Assistant'\n",
    "    elif 'tap' in tokens:\n",
    "        return 'Speaker'\n",
    "    elif 'tv' in tokens:\n",
    "        return 'Fire TV'\n",
    "    else:\n",
    "        return 'Other'\n",
    "df['primary_category'] = df['tokenized_name'].apply(categ)"
   ]
  },
  {
   "cell_type": "code",
   "execution_count": 71,
   "metadata": {},
   "outputs": [
    {
     "data": {
      "text/html": [
       "<div>\n",
       "<style scoped>\n",
       "    .dataframe tbody tr th:only-of-type {\n",
       "        vertical-align: middle;\n",
       "    }\n",
       "\n",
       "    .dataframe tbody tr th {\n",
       "        vertical-align: top;\n",
       "    }\n",
       "\n",
       "    .dataframe thead th {\n",
       "        text-align: right;\n",
       "    }\n",
       "</style>\n",
       "<table border=\"1\" class=\"dataframe\">\n",
       "  <thead>\n",
       "    <tr style=\"text-align: right;\">\n",
       "      <th></th>\n",
       "      <th>id</th>\n",
       "      <th>name</th>\n",
       "      <th>asins</th>\n",
       "      <th>brand</th>\n",
       "      <th>categories</th>\n",
       "      <th>manufacturer</th>\n",
       "      <th>manufacturerNumber</th>\n",
       "      <th>reviews_date</th>\n",
       "      <th>reviews_doRecommend</th>\n",
       "      <th>reviews_numHelpful</th>\n",
       "      <th>reviews_rating</th>\n",
       "      <th>reviews_text</th>\n",
       "      <th>reviews_title</th>\n",
       "      <th>not_recommended</th>\n",
       "      <th>recommended</th>\n",
       "      <th>tokenized_name</th>\n",
       "      <th>primary_category</th>\n",
       "    </tr>\n",
       "  </thead>\n",
       "  <tbody>\n",
       "    <tr>\n",
       "      <th>0</th>\n",
       "      <td>AVqVGZNvQMlgsOJE6eUY</td>\n",
       "      <td>amazon kindle ereader 6 wifi 8th generation 2016</td>\n",
       "      <td>B00ZV9PXP2</td>\n",
       "      <td>Amazon</td>\n",
       "      <td>Computers,Electronics Features,Tablets,Electro...</td>\n",
       "      <td>Amazon</td>\n",
       "      <td>B00ZV9PXP2</td>\n",
       "      <td>2017-09-03T00:00:00.000Z</td>\n",
       "      <td>False</td>\n",
       "      <td>0.0</td>\n",
       "      <td>3.0</td>\n",
       "      <td>I thought it would be as big as small paper bu...</td>\n",
       "      <td>Too small</td>\n",
       "      <td>1</td>\n",
       "      <td>0</td>\n",
       "      <td>[amazon, kindle, ereader, 6, wifi, 8th, genera...</td>\n",
       "      <td>E-Reader</td>\n",
       "    </tr>\n",
       "    <tr>\n",
       "      <th>1</th>\n",
       "      <td>AVqVGZNvQMlgsOJE6eUY</td>\n",
       "      <td>amazon kindle ereader 6 wifi 8th generation 2016</td>\n",
       "      <td>B00ZV9PXP2</td>\n",
       "      <td>Amazon</td>\n",
       "      <td>Computers,Electronics Features,Tablets,Electro...</td>\n",
       "      <td>Amazon</td>\n",
       "      <td>B00ZV9PXP2</td>\n",
       "      <td>2017-06-06T00:00:00.000Z</td>\n",
       "      <td>True</td>\n",
       "      <td>0.0</td>\n",
       "      <td>5.0</td>\n",
       "      <td>This kindle is light and easy to use especiall...</td>\n",
       "      <td>Great light reader. Easy to use at the beach</td>\n",
       "      <td>0</td>\n",
       "      <td>1</td>\n",
       "      <td>[amazon, kindle, ereader, 6, wifi, 8th, genera...</td>\n",
       "      <td>E-Reader</td>\n",
       "    </tr>\n",
       "    <tr>\n",
       "      <th>2</th>\n",
       "      <td>AVqVGZNvQMlgsOJE6eUY</td>\n",
       "      <td>amazon kindle ereader 6 wifi 8th generation 2016</td>\n",
       "      <td>B00ZV9PXP2</td>\n",
       "      <td>Amazon</td>\n",
       "      <td>Computers,Electronics Features,Tablets,Electro...</td>\n",
       "      <td>Amazon</td>\n",
       "      <td>B00ZV9PXP2</td>\n",
       "      <td>2018-04-20T00:00:00.000Z</td>\n",
       "      <td>True</td>\n",
       "      <td>0.0</td>\n",
       "      <td>4.0</td>\n",
       "      <td>Didnt know how much i'd use a kindle so went f...</td>\n",
       "      <td>Great for the price</td>\n",
       "      <td>0</td>\n",
       "      <td>1</td>\n",
       "      <td>[amazon, kindle, ereader, 6, wifi, 8th, genera...</td>\n",
       "      <td>E-Reader</td>\n",
       "    </tr>\n",
       "    <tr>\n",
       "      <th>3</th>\n",
       "      <td>AVqVGZNvQMlgsOJE6eUY</td>\n",
       "      <td>amazon kindle ereader 6 wifi 8th generation 2016</td>\n",
       "      <td>B00ZV9PXP2</td>\n",
       "      <td>Amazon</td>\n",
       "      <td>Computers,Electronics Features,Tablets,Electro...</td>\n",
       "      <td>Amazon</td>\n",
       "      <td>B00ZV9PXP2</td>\n",
       "      <td>2017-11-02T17:33:31.000Z</td>\n",
       "      <td>True</td>\n",
       "      <td>3.0</td>\n",
       "      <td>5.0</td>\n",
       "      <td>I am 100 happy with my purchase. I caught it o...</td>\n",
       "      <td>A Great Buy</td>\n",
       "      <td>0</td>\n",
       "      <td>1</td>\n",
       "      <td>[amazon, kindle, ereader, 6, wifi, 8th, genera...</td>\n",
       "      <td>E-Reader</td>\n",
       "    </tr>\n",
       "    <tr>\n",
       "      <th>4</th>\n",
       "      <td>AVqVGZNvQMlgsOJE6eUY</td>\n",
       "      <td>amazon kindle ereader 6 wifi 8th generation 2016</td>\n",
       "      <td>B00ZV9PXP2</td>\n",
       "      <td>Amazon</td>\n",
       "      <td>Computers,Electronics Features,Tablets,Electro...</td>\n",
       "      <td>Amazon</td>\n",
       "      <td>B00ZV9PXP2</td>\n",
       "      <td>2018-04-24T00:00:00.000Z</td>\n",
       "      <td>True</td>\n",
       "      <td>0.0</td>\n",
       "      <td>5.0</td>\n",
       "      <td>Solid entry level Kindle. Great for kids. Gift...</td>\n",
       "      <td>Solid entry-level Kindle. Great for kids</td>\n",
       "      <td>0</td>\n",
       "      <td>1</td>\n",
       "      <td>[amazon, kindle, ereader, 6, wifi, 8th, genera...</td>\n",
       "      <td>E-Reader</td>\n",
       "    </tr>\n",
       "  </tbody>\n",
       "</table>\n",
       "</div>"
      ],
      "text/plain": [
       "                     id                                              name  \\\n",
       "0  AVqVGZNvQMlgsOJE6eUY  amazon kindle ereader 6 wifi 8th generation 2016   \n",
       "1  AVqVGZNvQMlgsOJE6eUY  amazon kindle ereader 6 wifi 8th generation 2016   \n",
       "2  AVqVGZNvQMlgsOJE6eUY  amazon kindle ereader 6 wifi 8th generation 2016   \n",
       "3  AVqVGZNvQMlgsOJE6eUY  amazon kindle ereader 6 wifi 8th generation 2016   \n",
       "4  AVqVGZNvQMlgsOJE6eUY  amazon kindle ereader 6 wifi 8th generation 2016   \n",
       "\n",
       "        asins   brand                                         categories  \\\n",
       "0  B00ZV9PXP2  Amazon  Computers,Electronics Features,Tablets,Electro...   \n",
       "1  B00ZV9PXP2  Amazon  Computers,Electronics Features,Tablets,Electro...   \n",
       "2  B00ZV9PXP2  Amazon  Computers,Electronics Features,Tablets,Electro...   \n",
       "3  B00ZV9PXP2  Amazon  Computers,Electronics Features,Tablets,Electro...   \n",
       "4  B00ZV9PXP2  Amazon  Computers,Electronics Features,Tablets,Electro...   \n",
       "\n",
       "  manufacturer manufacturerNumber              reviews_date  \\\n",
       "0       Amazon         B00ZV9PXP2  2017-09-03T00:00:00.000Z   \n",
       "1       Amazon         B00ZV9PXP2  2017-06-06T00:00:00.000Z   \n",
       "2       Amazon         B00ZV9PXP2  2018-04-20T00:00:00.000Z   \n",
       "3       Amazon         B00ZV9PXP2  2017-11-02T17:33:31.000Z   \n",
       "4       Amazon         B00ZV9PXP2  2018-04-24T00:00:00.000Z   \n",
       "\n",
       "  reviews_doRecommend  reviews_numHelpful  reviews_rating  \\\n",
       "0               False                 0.0             3.0   \n",
       "1                True                 0.0             5.0   \n",
       "2                True                 0.0             4.0   \n",
       "3                True                 3.0             5.0   \n",
       "4                True                 0.0             5.0   \n",
       "\n",
       "                                        reviews_text  \\\n",
       "0  I thought it would be as big as small paper bu...   \n",
       "1  This kindle is light and easy to use especiall...   \n",
       "2  Didnt know how much i'd use a kindle so went f...   \n",
       "3  I am 100 happy with my purchase. I caught it o...   \n",
       "4  Solid entry level Kindle. Great for kids. Gift...   \n",
       "\n",
       "                                  reviews_title  not_recommended  recommended  \\\n",
       "0                                     Too small                1            0   \n",
       "1  Great light reader. Easy to use at the beach                0            1   \n",
       "2                           Great for the price                0            1   \n",
       "3                                   A Great Buy                0            1   \n",
       "4      Solid entry-level Kindle. Great for kids                0            1   \n",
       "\n",
       "                                      tokenized_name primary_category  \n",
       "0  [amazon, kindle, ereader, 6, wifi, 8th, genera...         E-Reader  \n",
       "1  [amazon, kindle, ereader, 6, wifi, 8th, genera...         E-Reader  \n",
       "2  [amazon, kindle, ereader, 6, wifi, 8th, genera...         E-Reader  \n",
       "3  [amazon, kindle, ereader, 6, wifi, 8th, genera...         E-Reader  \n",
       "4  [amazon, kindle, ereader, 6, wifi, 8th, genera...         E-Reader  "
      ]
     },
     "execution_count": 71,
     "metadata": {},
     "output_type": "execute_result"
    }
   ],
   "source": [
    "df.head()"
   ]
  },
  {
   "cell_type": "code",
   "execution_count": 72,
   "metadata": {},
   "outputs": [
    {
     "data": {
      "text/plain": [
       "array(['E-Reader', 'Personal Assistant', 'Fire TV', 'Charger', 'Cases',\n",
       "       'Tablets', 'Speaker'], dtype=object)"
      ]
     },
     "execution_count": 72,
     "metadata": {},
     "output_type": "execute_result"
    }
   ],
   "source": [
    "df['primary_category'].unique()"
   ]
  },
  {
   "cell_type": "markdown",
   "metadata": {},
   "source": [
    "## Exploratory Data Analysis"
   ]
  },
  {
   "cell_type": "code",
   "execution_count": 73,
   "metadata": {},
   "outputs": [
    {
     "data": {
      "image/png": "[encoded data removed]",
      "text/plain": [
       "<Figure size 432x288 with 1 Axes>"
      ]
     },
     "metadata": {
      "needs_background": "light"
     },
     "output_type": "display_data"
    }
   ],
   "source": [
    "#let's create a countplot to see the reviews how many of each type of star reviews there are\n",
    "sns.countplot(x='reviews_rating', data=df)\n",
    "plt.xlabel('Star Rating of Product')\n",
    "plt.ylabel('Frequency')\n",
    "plt.title('Star Ratings of Amazon Products')\n",
    "plt.show()"
   ]
  },
  {
   "cell_type": "markdown",
   "metadata": {},
   "source": [
    "There seem to be very few ratings under 5 stars, which is understandable as Amazon electronics are pretty well received by people, but this may not be very good news for a machine learning model as the data is very unbalanced, when observing classification reports, I would need to focus more on other performance metrics other than accuracy"
   ]
  },
  {
   "cell_type": "code",
   "execution_count": 74,
   "metadata": {},
   "outputs": [
    {
     "data": {
      "image/png": "[encoded data removed]",
      "text/plain": [
       "<Figure size 432x288 with 1 Axes>"
      ]
     },
     "metadata": {
      "needs_background": "light"
     },
     "output_type": "display_data"
    }
   ],
   "source": [
    "plt.scatter(x = df['reviews_numHelpful'], y = df['reviews_rating'])\n",
    "plt.xlabel('Number of Helpful reviews')\n",
    "plt.ylabel('Star Rating of Product')\n",
    "plt.title('Star Rating vs Number of Users that found the Review Helpful')\n",
    "plt.show()"
   ]
  },
  {
   "cell_type": "code",
   "execution_count": 75,
   "metadata": {},
   "outputs": [
    {
     "data": {
      "image/png": "[encoded data removed]",
      "text/plain": [
       "<Figure size 720x360 with 1 Axes>"
      ]
     },
     "metadata": {
      "needs_background": "light"
     },
     "output_type": "display_data"
    }
   ],
   "source": [
    "#see the frequency of our primary categories\n",
    "plt.figure(figsize=(10,5))\n",
    "sns.countplot(x='primary_category', data=df)\n",
    "plt.xlabel('Type of Electronic Product')\n",
    "plt.ylabel('Frequency')\n",
    "plt.title('Amazon Electronics and Accessories')\n",
    "plt.show()"
   ]
  },
  {
   "cell_type": "markdown",
   "metadata": {},
   "source": [
    "A majority of products listed are either tablets or cases"
   ]
  },
  {
   "cell_type": "code",
   "execution_count": 76,
   "metadata": {},
   "outputs": [],
   "source": [
    "#make plots of categories of the products along with their ratings\n",
    "ereader = df.loc[df['primary_category']=='E-Reader']"
   ]
  },
  {
   "cell_type": "code",
   "execution_count": 77,
   "metadata": {},
   "outputs": [
    {
     "data": {
      "image/png": "[encoded data removed]",
      "text/plain": [
       "<Figure size 432x288 with 1 Axes>"
      ]
     },
     "metadata": {
      "needs_background": "light"
     },
     "output_type": "display_data"
    }
   ],
   "source": [
    "#let's create a countplot to see the reviews how many of each type of star reviews there are for e-readers\n",
    "sns.countplot(x='reviews_rating', data=ereader)\n",
    "plt.xlabel('Star Rating of Product')\n",
    "plt.ylabel('Frequency')\n",
    "plt.title('Star Ratings of E-Readers')\n",
    "plt.show()"
   ]
  },
  {
   "cell_type": "code",
   "execution_count": 78,
   "metadata": {},
   "outputs": [],
   "source": [
    "tablets = df.loc[df['primary_category']=='Tablets']"
   ]
  },
  {
   "cell_type": "code",
   "execution_count": 79,
   "metadata": {},
   "outputs": [
    {
     "data": {
      "image/png": "[encoded data removed]",
      "text/plain": [
       "<Figure size 432x288 with 1 Axes>"
      ]
     },
     "metadata": {
      "needs_background": "light"
     },
     "output_type": "display_data"
    }
   ],
   "source": [
    "sns.countplot(x='reviews_rating', data=tablets)\n",
    "plt.xlabel('Star Rating of Product')\n",
    "plt.ylabel('Frequency')\n",
    "plt.title('Star Ratings of Tablets')\n",
    "plt.show()"
   ]
  },
  {
   "cell_type": "code",
   "execution_count": 80,
   "metadata": {},
   "outputs": [],
   "source": [
    "alexa = df.loc[df['primary_category']=='Personal Assistant']"
   ]
  },
  {
   "cell_type": "code",
   "execution_count": 81,
   "metadata": {},
   "outputs": [
    {
     "data": {
      "image/png": "[encoded data removed]",
      "text/plain": [
       "<Figure size 432x288 with 1 Axes>"
      ]
     },
     "metadata": {
      "needs_background": "light"
     },
     "output_type": "display_data"
    }
   ],
   "source": [
    "sns.countplot(x='reviews_rating', data=alexa)\n",
    "plt.xlabel('Star Rating of Product')\n",
    "plt.ylabel('Frequency')\n",
    "plt.title('Star Ratings of Amazon Echos')\n",
    "plt.show()"
   ]
  },
  {
   "cell_type": "code",
   "execution_count": 82,
   "metadata": {},
   "outputs": [],
   "source": [
    "#separate electronics from the cases\n",
    "electronics_df = df.loc[df['primary_category']!='Cases']"
   ]
  },
  {
   "cell_type": "code",
   "execution_count": 83,
   "metadata": {},
   "outputs": [
    {
     "data": {
      "text/html": [
       "<div>\n",
       "<style scoped>\n",
       "    .dataframe tbody tr th:only-of-type {\n",
       "        vertical-align: middle;\n",
       "    }\n",
       "\n",
       "    .dataframe tbody tr th {\n",
       "        vertical-align: top;\n",
       "    }\n",
       "\n",
       "    .dataframe thead th {\n",
       "        text-align: right;\n",
       "    }\n",
       "</style>\n",
       "<table border=\"1\" class=\"dataframe\">\n",
       "  <thead>\n",
       "    <tr style=\"text-align: right;\">\n",
       "      <th></th>\n",
       "      <th>id</th>\n",
       "      <th>name</th>\n",
       "      <th>asins</th>\n",
       "      <th>brand</th>\n",
       "      <th>categories</th>\n",
       "      <th>manufacturer</th>\n",
       "      <th>manufacturerNumber</th>\n",
       "      <th>reviews_date</th>\n",
       "      <th>reviews_doRecommend</th>\n",
       "      <th>reviews_numHelpful</th>\n",
       "      <th>reviews_rating</th>\n",
       "      <th>reviews_text</th>\n",
       "      <th>reviews_title</th>\n",
       "      <th>not_recommended</th>\n",
       "      <th>recommended</th>\n",
       "      <th>tokenized_name</th>\n",
       "      <th>primary_category</th>\n",
       "    </tr>\n",
       "  </thead>\n",
       "  <tbody>\n",
       "    <tr>\n",
       "      <th>0</th>\n",
       "      <td>AVqVGZNvQMlgsOJE6eUY</td>\n",
       "      <td>amazon kindle ereader 6 wifi 8th generation 2016</td>\n",
       "      <td>B00ZV9PXP2</td>\n",
       "      <td>Amazon</td>\n",
       "      <td>Computers,Electronics Features,Tablets,Electro...</td>\n",
       "      <td>Amazon</td>\n",
       "      <td>B00ZV9PXP2</td>\n",
       "      <td>2017-09-03T00:00:00.000Z</td>\n",
       "      <td>False</td>\n",
       "      <td>0.0</td>\n",
       "      <td>3.0</td>\n",
       "      <td>I thought it would be as big as small paper bu...</td>\n",
       "      <td>Too small</td>\n",
       "      <td>1</td>\n",
       "      <td>0</td>\n",
       "      <td>[amazon, kindle, ereader, 6, wifi, 8th, genera...</td>\n",
       "      <td>E-Reader</td>\n",
       "    </tr>\n",
       "    <tr>\n",
       "      <th>1</th>\n",
       "      <td>AVqVGZNvQMlgsOJE6eUY</td>\n",
       "      <td>amazon kindle ereader 6 wifi 8th generation 2016</td>\n",
       "      <td>B00ZV9PXP2</td>\n",
       "      <td>Amazon</td>\n",
       "      <td>Computers,Electronics Features,Tablets,Electro...</td>\n",
       "      <td>Amazon</td>\n",
       "      <td>B00ZV9PXP2</td>\n",
       "      <td>2017-06-06T00:00:00.000Z</td>\n",
       "      <td>True</td>\n",
       "      <td>0.0</td>\n",
       "      <td>5.0</td>\n",
       "      <td>This kindle is light and easy to use especiall...</td>\n",
       "      <td>Great light reader. Easy to use at the beach</td>\n",
       "      <td>0</td>\n",
       "      <td>1</td>\n",
       "      <td>[amazon, kindle, ereader, 6, wifi, 8th, genera...</td>\n",
       "      <td>E-Reader</td>\n",
       "    </tr>\n",
       "    <tr>\n",
       "      <th>2</th>\n",
       "      <td>AVqVGZNvQMlgsOJE6eUY</td>\n",
       "      <td>amazon kindle ereader 6 wifi 8th generation 2016</td>\n",
       "      <td>B00ZV9PXP2</td>\n",
       "      <td>Amazon</td>\n",
       "      <td>Computers,Electronics Features,Tablets,Electro...</td>\n",
       "      <td>Amazon</td>\n",
       "      <td>B00ZV9PXP2</td>\n",
       "      <td>2018-04-20T00:00:00.000Z</td>\n",
       "      <td>True</td>\n",
       "      <td>0.0</td>\n",
       "      <td>4.0</td>\n",
       "      <td>Didnt know how much i'd use a kindle so went f...</td>\n",
       "      <td>Great for the price</td>\n",
       "      <td>0</td>\n",
       "      <td>1</td>\n",
       "      <td>[amazon, kindle, ereader, 6, wifi, 8th, genera...</td>\n",
       "      <td>E-Reader</td>\n",
       "    </tr>\n",
       "    <tr>\n",
       "      <th>3</th>\n",
       "      <td>AVqVGZNvQMlgsOJE6eUY</td>\n",
       "      <td>amazon kindle ereader 6 wifi 8th generation 2016</td>\n",
       "      <td>B00ZV9PXP2</td>\n",
       "      <td>Amazon</td>\n",
       "      <td>Computers,Electronics Features,Tablets,Electro...</td>\n",
       "      <td>Amazon</td>\n",
       "      <td>B00ZV9PXP2</td>\n",
       "      <td>2017-11-02T17:33:31.000Z</td>\n",
       "      <td>True</td>\n",
       "      <td>3.0</td>\n",
       "      <td>5.0</td>\n",
       "      <td>I am 100 happy with my purchase. I caught it o...</td>\n",
       "      <td>A Great Buy</td>\n",
       "      <td>0</td>\n",
       "      <td>1</td>\n",
       "      <td>[amazon, kindle, ereader, 6, wifi, 8th, genera...</td>\n",
       "      <td>E-Reader</td>\n",
       "    </tr>\n",
       "    <tr>\n",
       "      <th>4</th>\n",
       "      <td>AVqVGZNvQMlgsOJE6eUY</td>\n",
       "      <td>amazon kindle ereader 6 wifi 8th generation 2016</td>\n",
       "      <td>B00ZV9PXP2</td>\n",
       "      <td>Amazon</td>\n",
       "      <td>Computers,Electronics Features,Tablets,Electro...</td>\n",
       "      <td>Amazon</td>\n",
       "      <td>B00ZV9PXP2</td>\n",
       "      <td>2018-04-24T00:00:00.000Z</td>\n",
       "      <td>True</td>\n",
       "      <td>0.0</td>\n",
       "      <td>5.0</td>\n",
       "      <td>Solid entry level Kindle. Great for kids. Gift...</td>\n",
       "      <td>Solid entry-level Kindle. Great for kids</td>\n",
       "      <td>0</td>\n",
       "      <td>1</td>\n",
       "      <td>[amazon, kindle, ereader, 6, wifi, 8th, genera...</td>\n",
       "      <td>E-Reader</td>\n",
       "    </tr>\n",
       "  </tbody>\n",
       "</table>\n",
       "</div>"
      ],
      "text/plain": [
       "                     id                                              name  \\\n",
       "0  AVqVGZNvQMlgsOJE6eUY  amazon kindle ereader 6 wifi 8th generation 2016   \n",
       "1  AVqVGZNvQMlgsOJE6eUY  amazon kindle ereader 6 wifi 8th generation 2016   \n",
       "2  AVqVGZNvQMlgsOJE6eUY  amazon kindle ereader 6 wifi 8th generation 2016   \n",
       "3  AVqVGZNvQMlgsOJE6eUY  amazon kindle ereader 6 wifi 8th generation 2016   \n",
       "4  AVqVGZNvQMlgsOJE6eUY  amazon kindle ereader 6 wifi 8th generation 2016   \n",
       "\n",
       "        asins   brand                                         categories  \\\n",
       "0  B00ZV9PXP2  Amazon  Computers,Electronics Features,Tablets,Electro...   \n",
       "1  B00ZV9PXP2  Amazon  Computers,Electronics Features,Tablets,Electro...   \n",
       "2  B00ZV9PXP2  Amazon  Computers,Electronics Features,Tablets,Electro...   \n",
       "3  B00ZV9PXP2  Amazon  Computers,Electronics Features,Tablets,Electro...   \n",
       "4  B00ZV9PXP2  Amazon  Computers,Electronics Features,Tablets,Electro...   \n",
       "\n",
       "  manufacturer manufacturerNumber              reviews_date  \\\n",
       "0       Amazon         B00ZV9PXP2  2017-09-03T00:00:00.000Z   \n",
       "1       Amazon         B00ZV9PXP2  2017-06-06T00:00:00.000Z   \n",
       "2       Amazon         B00ZV9PXP2  2018-04-20T00:00:00.000Z   \n",
       "3       Amazon         B00ZV9PXP2  2017-11-02T17:33:31.000Z   \n",
       "4       Amazon         B00ZV9PXP2  2018-04-24T00:00:00.000Z   \n",
       "\n",
       "  reviews_doRecommend  reviews_numHelpful  reviews_rating  \\\n",
       "0               False                 0.0             3.0   \n",
       "1                True                 0.0             5.0   \n",
       "2                True                 0.0             4.0   \n",
       "3                True                 3.0             5.0   \n",
       "4                True                 0.0             5.0   \n",
       "\n",
       "                                        reviews_text  \\\n",
       "0  I thought it would be as big as small paper bu...   \n",
       "1  This kindle is light and easy to use especiall...   \n",
       "2  Didnt know how much i'd use a kindle so went f...   \n",
       "3  I am 100 happy with my purchase. I caught it o...   \n",
       "4  Solid entry level Kindle. Great for kids. Gift...   \n",
       "\n",
       "                                  reviews_title  not_recommended  recommended  \\\n",
       "0                                     Too small                1            0   \n",
       "1  Great light reader. Easy to use at the beach                0            1   \n",
       "2                           Great for the price                0            1   \n",
       "3                                   A Great Buy                0            1   \n",
       "4      Solid entry-level Kindle. Great for kids                0            1   \n",
       "\n",
       "                                      tokenized_name primary_category  \n",
       "0  [amazon, kindle, ereader, 6, wifi, 8th, genera...         E-Reader  \n",
       "1  [amazon, kindle, ereader, 6, wifi, 8th, genera...         E-Reader  \n",
       "2  [amazon, kindle, ereader, 6, wifi, 8th, genera...         E-Reader  \n",
       "3  [amazon, kindle, ereader, 6, wifi, 8th, genera...         E-Reader  \n",
       "4  [amazon, kindle, ereader, 6, wifi, 8th, genera...         E-Reader  "
      ]
     },
     "execution_count": 83,
     "metadata": {},
     "output_type": "execute_result"
    }
   ],
   "source": [
    "electronics_df.head()"
   ]
  },
  {
   "cell_type": "code",
   "execution_count": 84,
   "metadata": {},
   "outputs": [
    {
     "data": {
      "image/png": "[encoded data removed]",
      "text/plain": [
       "<Figure size 720x360 with 1 Axes>"
      ]
     },
     "metadata": {
      "needs_background": "light"
     },
     "output_type": "display_data"
    }
   ],
   "source": [
    "#see the electronics distribution eithout cases\n",
    "plt.figure(figsize=(10,5))\n",
    "sns.countplot(x='primary_category', data=electronics_df)\n",
    "plt.xlabel('Type of Electronic Product')\n",
    "plt.ylabel('Frequency')\n",
    "plt.title('Amazon Electronics')\n",
    "plt.show()"
   ]
  },
  {
   "cell_type": "code",
   "execution_count": 85,
   "metadata": {},
   "outputs": [
    {
     "data": {
      "image/png": "[encoded data removed]",
      "text/plain": [
       "<Figure size 720x360 with 1 Axes>"
      ]
     },
     "metadata": {
      "needs_background": "light"
     },
     "output_type": "display_data"
    }
   ],
   "source": [
    "plt.figure(figsize=(10,5))\n",
    "sns.countplot(x='reviews_rating', data=electronics_df)\n",
    "plt.xlabel('Electronic Star Rating')\n",
    "plt.ylabel('Frequency')\n",
    "plt.title('Amazon Electronics Ratings')\n",
    "plt.show()"
   ]
  },
  {
   "cell_type": "code",
   "execution_count": 86,
   "metadata": {},
   "outputs": [],
   "source": [
    "#make a df of only 5 star reviews\n",
    "five_star = df.loc[df['reviews_rating']==5.0]"
   ]
  },
  {
   "cell_type": "markdown",
   "metadata": {},
   "source": [
    "## Next Steps\n",
    "Next I am going to pre-process my text, to look at text patterns and create models and compare said models. NLP requires significantly less EDA than other problems. Since the data is imbalanced, I can observe more text patterns. When performing cross validation, I need to keep in mind that accuracy is not the best way to see patterns in the data"
   ]
  },
  {
   "cell_type": "code",
   "execution_count": 88,
   "metadata": {},
   "outputs": [],
   "source": [
    "df.to_csv('../data/amazon_reviews.csv')\n",
    "five_star.to_csv('../data/amazon_5reviews.csv')"
   ]
  }
 ],
 "metadata": {
  "kernelspec": {
   "display_name": "Python 3",
   "language": "python",
   "name": "python3"
  },
  "language_info": {
   "codemirror_mode": {
    "name": "ipython",
    "version": 3
   },
   "file_extension": ".py",
   "mimetype": "text/x-python",
   "name": "python",
   "nbconvert_exporter": "python",
   "pygments_lexer": "ipython3",
   "version": "3.8.3"
  }
 },
 "nbformat": 4,
 "nbformat_minor": 4
}
